{
 "cells": [
  {
   "cell_type": "heading",
   "metadata": {
    "collapsed": true
   },
   "level": 1,
   "source": [
    "#Packages"
   ]
  },
  {
   "cell_type": "code",
   "execution_count": 6,
   "metadata": {
    "collapsed": true
   },
   "outputs": [
    {
     "ename": "ImportError",
     "evalue": "No module named 'torch.nn'",
     "traceback": [
      "\u001b[0;31m---------------------------------------------------------------------------\u001b[0m",
      "\u001b[0;31mImportError\u001b[0m                               Traceback (most recent call last)",
      "\u001b[0;32m<ipython-input-6-2bc868960796>\u001b[0m in \u001b[0;36m<module>\u001b[0;34m()\u001b[0m\n\u001b[1;32m     15\u001b[0m \u001b[0;32mimport\u001b[0m \u001b[0mnumpy\u001b[0m \u001b[0;32mas\u001b[0m \u001b[0mnp\u001b[0m\u001b[0;34m\u001b[0m\u001b[0m\n\u001b[1;32m     16\u001b[0m \u001b[0;32mimport\u001b[0m \u001b[0mtorch\u001b[0m\u001b[0;34m\u001b[0m\u001b[0m\n\u001b[0;32m---> 17\u001b[0;31m \u001b[0;32mimport\u001b[0m \u001b[0mtorch\u001b[0m\u001b[0;34m.\u001b[0m\u001b[0mnn\u001b[0m \u001b[0;32mas\u001b[0m \u001b[0mnn\u001b[0m\u001b[0;34m\u001b[0m\u001b[0m\n\u001b[0m\u001b[1;32m     18\u001b[0m \u001b[0;32mimport\u001b[0m \u001b[0mtorch\u001b[0m\u001b[0;34m.\u001b[0m\u001b[0moptim\u001b[0m \u001b[0;32mas\u001b[0m \u001b[0moptim\u001b[0m\u001b[0;34m\u001b[0m\u001b[0m\n\u001b[1;32m     19\u001b[0m \u001b[0;32mimport\u001b[0m \u001b[0mtorch\u001b[0m\u001b[0;34m.\u001b[0m\u001b[0mautograd\u001b[0m \u001b[0;32mas\u001b[0m \u001b[0mautograd\u001b[0m\u001b[0;34m\u001b[0m\u001b[0m\n",
      "\u001b[0;31mImportError\u001b[0m: No module named 'torch.nn'"
     ],
     "output_type": "error"
    }
   ],
   "source": [
    "import enum\n",
    "import gym\n",
    "from gym import error, spaces, utils\n",
    "from gym.utils import seeding\n",
    "from gym.spaces import Discrete, Tuple\n",
    "import pickle\n",
    "import pandas as pd\n",
    "from random import randint, getrandbits\n",
    "import datetime\n",
    "from datetime import timedelta\n",
    "import os\n",
    "from datetime import date\n",
    "import copy\n",
    "import math, random\n",
    "import numpy as np\n",
    "import torch\n",
    "import torch.nn as nn\n",
    "import torch.optim as optim\n",
    "import torch.autograd as autograd\n",
    "from IPython.display import clear_output\n",
    "import matplotlib.pyplot as plt\n",
    "%matplotlib inline"
   ]
  },
  {
   "cell_type": "heading",
   "metadata": {
    "collapsed": true
   },
   "level": 1,
   "source": [
    "# basic DQN model from torch Module"
   ]
  },
  {
   "cell_type": "code",
   "execution_count": null,
   "metadata": {
    "collapsed": true
   },
   "outputs": [
    {
     "ename": "ImportError",
     "evalue": "No module named 'torch.nn'",
     "traceback": [
      "\u001b[0;31m---------------------------------------------------------------------------\u001b[0m",
      "\u001b[0;31mImportError\u001b[0m                               Traceback (most recent call last)",
      "\u001b[0;32m<ipython-input-2-c417bf46f7f3>\u001b[0m in \u001b[0;36m<module>\u001b[0;34m()\u001b[0m\n\u001b[1;32m     15\u001b[0m \u001b[0;32mimport\u001b[0m \u001b[0mnumpy\u001b[0m \u001b[0;32mas\u001b[0m \u001b[0mnp\u001b[0m\u001b[0;34m\u001b[0m\u001b[0m\n\u001b[1;32m     16\u001b[0m \u001b[0;32mimport\u001b[0m \u001b[0mtorch\u001b[0m\u001b[0;34m\u001b[0m\u001b[0m\n\u001b[0;32m---> 17\u001b[0;31m \u001b[0;32mimport\u001b[0m \u001b[0mtorch\u001b[0m\u001b[0;34m.\u001b[0m\u001b[0mnn\u001b[0m \u001b[0;32mas\u001b[0m \u001b[0mnn\u001b[0m\u001b[0;34m\u001b[0m\u001b[0m\n\u001b[0m\u001b[1;32m     18\u001b[0m \u001b[0;32mimport\u001b[0m \u001b[0mtorch\u001b[0m\u001b[0;34m.\u001b[0m\u001b[0moptim\u001b[0m \u001b[0;32mas\u001b[0m \u001b[0moptim\u001b[0m\u001b[0;34m\u001b[0m\u001b[0m\n\u001b[1;32m     19\u001b[0m \u001b[0;32mimport\u001b[0m \u001b[0mtorch\u001b[0m\u001b[0;34m.\u001b[0m\u001b[0mautograd\u001b[0m \u001b[0;32mas\u001b[0m \u001b[0mautograd\u001b[0m\u001b[0;34m\u001b[0m\u001b[0m\n",
      "\u001b[0;31mImportError\u001b[0m: No module named 'torch.nn'"
     ],
     "output_type": "error"
    }
   ],
   "source": [
    "class DQN(nn.Module):\n",
    "    def __init__(self, num_inputs, num_actions):\n",
    "        super(DQN, self).__init__()\n",
    "        self.layers = nn.Sequential(\n",
    "            nn.Linear(num_inputs, 256),\n",
    "            nn.ReLU(),\n",
    "            nn.Linear(256, 256),\n",
    "            nn.ReLU(),\n",
    "            nn.Linear(256, num_actions*2)\n",
    "        )\n",
    "        self.num_actions = num_actions\n",
    "        \n",
    "    def forward(self, x):\n",
    "        return self.layers(x)\n"
   ]
  },
  {
   "cell_type": "heading",
   "metadata": {},
   "level": 1,
   "source": [
    "#get action from a current state"
   ]
  },
  {
   "cell_type": "code",
   "execution_count": null,
   "metadata": {},
   "outputs": [],
   "source": [
    "def get_action(env, state, net, epsilon=0.0):\n",
    "    if random.random() > epsilon:\n",
    "        state = torch.autograd.Variable(torch.FloatTensor(state).unsqueeze(0)) # adds extra dim at front\n",
    "        q_value = net(state)\n",
    "        action = np.array([\n",
    "            1 if q_value[:,a*2]<q_value[:,a*2+1] else 0\n",
    "            for a in range(env.action_space.n)\n",
    "        ], dtype=np.uint8)\n",
    "    else:\n",
    "        action = env.action_space.sample()\n",
    "    return action\n"
   ]
  },
  {
   "cell_type": "heading",
   "metadata": {},
   "level": 1,
   "source": [
    "#Reinforcement Environment for our project!"
   ]
  },
  {
   "cell_type": "code",
   "execution_count": null,
   "metadata": {},
   "outputs": [],
   "source": [
    "class HUFSEnv_v1(gym.Env):\n",
    "    def __init__(self, start_date):\n",
    "        dataset = 'DataSet1'\n",
    "        df_inventory = pickle.load(open(f'{dataset}/inventory_df.dump', 'rb')) #column = [\"arrival_time\",\"VDCi\",\"VDCj...\"]\n",
    "        df_from_3A = pickle.load(open(f'{dataset}/df_from_3A.dump', 'rb')) #column = [\"arrival_time\",\"num_car_transffered\"]\n",
    "        vdc_capacity_dic = pickle.load(open(f'{dataset}/vdc_capacity_dic.dump', 'rb'))\n",
    "        distance_matrix = pickle.load(open(f'{dataset}/dist_mat_dataset_1.dump', 'rb'))\n",
    "        location_index_dic = pickle.load(open(f'{dataset}/location_index_dic_dataset_1.dump', 'rb'))\n",
    "        vdc_rail_dic = pickle.load(open(f'{dataset}/vdc_rail_dic.dump', 'rb'))\n",
    "        VDC = list(vdc_capacity_dic.keys())\n",
    "        start_date = pd.to_datetime(start_date)\n",
    "        DECISION_INTERVAL = 6\n",
    "\n",
    "        Link_info = {\n",
    "            i: {\n",
    "                j: {\n",
    "                    'distance': distance_matrix[location_index_dic[i]][location_index_dic[j]],\n",
    "                    'rail': vdc_rail_dic[i] and vdc_rail_dic[j]\n",
    "                }\n",
    "                for j in VDC\n",
    "                if i != j\n",
    "            }\n",
    "            for i in VDC\n",
    "        }\n",
    "        for i in VDC:\n",
    "            for j in VDC:\n",
    "                if i != j:\n",
    "                    Link_info[i][j]['time'] = Link_info[i][j]['distance'] / (10.0 if Link_info[i][j]['rail'] else 30.0)\n",
    "\n",
    "        self.Link_info = Link_info\n",
    "        self.vdc_rail_dic = pickle.load(open(f'{dataset}/vdc_rail_dic.dump', 'rb'))\n",
    "        self.DECISION_INTERVAL = DECISION_INTERVAL\n",
    "        self.TRANING_STEPS = 2000\n",
    "        self.MIN_DWELL_TIME = 2\n",
    "        self.NUM_LOOKING_FORWARD = 48 // self.DECISION_INTERVAL\n",
    "        self.initial_data ={\n",
    "            \"df_inventory\":copy.deepcopy(df_inventory),\n",
    "            \"start_date\": start_date\n",
    "        }\n",
    "        self.df_from_3A = df_from_3A\n",
    "        self.action_space = spaces.MultiBinary(1)\n",
    "        self.action_space.dtype = np.uint8\n",
    "        self.observation_space = spaces.Box(low=0, high=1000, shape=(self.NUM_LOOKING_FORWARD * 2, 1), dtype=np.uint16)\n",
    "        self.VDC_list_without_3A = list(vdc_capacity_dic.keys())\n",
    "        self.VDC_list_without_3A.remove(\"3A\")\n",
    "        self.rdly_selected_vdc=random.choice(self.VDC_list_without_3A)\n",
    "    \n",
    "    def get_state(self):\n",
    "        inventory_state = [\n",
    "            self.next_vdc_capa - sum(self.selected_vdc_inventory_df[self.selected_vdc_inventory_df[\"arrival_time\"] \n",
    "                                                                    <= self.current_time + timedelta(days=0.85 * t)]\n",
    "                                     [self.rdly_selected_vdc])\n",
    "            for t in range(self.NUM_LOOKING_FORWARD)\n",
    "        ]\n",
    "        car_state = [\n",
    "            sum(self.selected_vdc_from_3A[self.selected_vdc_from_3A[\"arrival_time\"] <= \n",
    "                                           self.current_time - timedelta(days=self.MIN_DWELL_TIME) + \n",
    "                                           timedelta(hours=t*self.DECISION_INTERVAL)][self.rdly_selected_vdc]) \n",
    "            - self.num_of_send\n",
    "            for t in range(self.NUM_LOOKING_FORWARD)\n",
    "        ]\n",
    "        car_state = np.array(car_state)\n",
    "        q = car_state[0]//20\n",
    "        car_state[0] = car_state[0]%20\n",
    "        car_state[1:] -= (20*q)\n",
    "        car_state=list(car_state)        \n",
    "        return car_state + inventory_state, q\n",
    "\n",
    "    def step(self, action):\n",
    "        trans_reward = 0\n",
    "        lead_time_reward = 0\n",
    "        overflow_cost = 0        \n",
    "        state = self.state\n",
    "        num_cars = state[0]        \n",
    "        from_vdc = self.me\n",
    "        to_vdc = self.rdly_selected_vdc\n",
    "        num_car_send_t0=0\n",
    "        \n",
    "        if self.steps == self.TRANING_STEPS:\n",
    "            trans_reward = self.calc_transport_cost(from_vdc,to_vdc,num_cars)\n",
    "            trans_reward += self.calc_transport_cost2(from_vdc,to_vdc,num_cars)\n",
    "        else:\n",
    "            if action == 1:  \n",
    "                self.num_of_send += num_cars\n",
    "                num_car_send_t0 += num_cars\n",
    "                trans_reward = self.calc_transport_cost(from_vdc,to_vdc,num_cars)\n",
    "                ##.. update inventory DataFrame.\n",
    "                link_info = self.Link_info[from_vdc][to_vdc]\n",
    "                delivery_time = link_info[\"time\"]\n",
    "                dt = self.current_time + timedelta(hours = delivery_time) + timedelta(days = 1)\n",
    "                delivered_time = dt.strftime(\"%Y-%m-%d %H:00:00\")\n",
    "                idx = self.selected_vdc_inventory_df.index[self.selected_vdc_inventory_df[\"arrival_time\"]==delivered_time][0]\n",
    "                self.selected_vdc_inventory_df.loc[idx,self.rdly_selected_vdc] += num_cars\n",
    "                ##\n",
    "            else:\n",
    "                lead_time_reward = 10 * num_cars / 4\n",
    "        inventory_state = state[12:]\n",
    "        current_inventory_state = inventory_state[0]\n",
    "        overflow_cost = max(0, -current_inventory_state) * self.OVERFLOW_VAR_COST\n",
    "        \n",
    "        self.state, q = self.get_state()\n",
    "        \n",
    "        if self.steps == self.TRANING_STEPS:\n",
    "            trans_reward += self.calc_transport_cost2(from_vdc,q)\n",
    "        else:\n",
    "            if action == 1:          \n",
    "                trans_reward += self.calc_transport_cost2(from_vdc,to_vdc,q)\n",
    "                ##.. update inventory DataFrame.\n",
    "                link_info = self.Link_info[from_vdc][to_vdc]\n",
    "                delivery_time = link_info[\"time\"]\n",
    "                dt = self.current_time + timedelta(hours = delivery_time) + timedelta(days = 1)\n",
    "                delivered_time = dt.strftime(\"%Y-%m-%d %H:00:00\")\n",
    "                idx = self.selected_vdc_inventory_df.index[self.selected_vdc_inventory_df[\"arrival_time\"]==delivered_time][0]\n",
    "                self.selected_vdc_inventory_df.loc[idx,self.rdly_selected_vdc] += 20* q\n",
    "            else:\n",
    "                trans_reward = self.calc_transport_cost2(from_vdc,to_vdc,q) \n",
    "                self.num_of_send += q*20\n",
    "                link_info = self.Link_info[from_vdc][to_vdc]\n",
    "                delivery_time = link_info[\"time\"]\n",
    "                dt = self.current_time + timedelta(hours = delivery_time) + timedelta(days = 1)\n",
    "                delivered_time = dt.strftime(\"%Y-%m-%d %H:00:00\")\n",
    "                idx = self.selected_vdc_inventory_df.index[self.selected_vdc_inventory_df[\"arrival_time\"]==delivered_time][0]\n",
    "                self.selected_vdc_inventory_df.loc[idx,self.rdly_selected_vdc] += 20* q\n",
    "\n",
    "        inventory_state = state[12:]        \n",
    "        current_inventory_state = inventory_state[0]\n",
    "        overflow_cost = max(0, -current_inventory_state) * self.OVERFLOW_VAR_COST\n",
    "        \n",
    "        if self.steps==0:\n",
    "            out = num_car_send_t0\n",
    "        else:\n",
    "            out = q*20 + num_car_send_t0\n",
    "        ##update inventory DataFrame\n",
    "        link_info2 = self.Link_info[from_vdc][to_vdc]\n",
    "        delivery_time2 = link_info2[\"time\"]\n",
    "        dt2 = self.current_time + timedelta(hours = delivery_time2) + timedelta(days = 2) + timedelta(days = 1)\n",
    "        delivered_time2 = dt2.strftime(\"%Y-%m-%d %H:00:00\")\n",
    "        \n",
    "        idx = self.selected_vdc_inventory_df.index[self.selected_vdc_inventory_df[\"arrival_time\"]==delivered_time2][0]\n",
    "        self.selected_vdc_inventory_df.loc[idx,self.rdly_selected_vdc] -= out\n",
    "        \n",
    "        self.steps += 1\n",
    "        if self.steps == self.TRANING_STEPS:\n",
    "            trans_reward\n",
    "            self.done = True\n",
    "            \n",
    "        self.current_time += timedelta(hours=self.DECISION_INTERVAL)\n",
    "        \n",
    "        return self.state, -sum([trans_reward, lead_time_reward, overflow_cost]), self.done, {\n",
    "            'trans_reward' : trans_reward,\n",
    "            'lead_time_reward' : lead_time_reward,\n",
    "            'overflow_cost' : overflow_cost\n",
    "        } \n",
    "        \n",
    "    def calc_transport_cost(self, from_vdc, to_vdc, num_cars):\n",
    "        if num_cars == 0:\n",
    "            cost=2000\n",
    "        else:\n",
    "            num_r = num_cars // 20 + 1\n",
    "            link_info = self.Link_info[from_vdc][to_vdc]\n",
    "            distance = link_info['distance']\n",
    "            cost = 2000*num_r + num_cars * distance * 3\n",
    "        return cost\n",
    "\n",
    "    def calc_transport_cost2(self, from_vdc, to_vdc, q):\n",
    "        if q == 0:        \n",
    "            cost=0\n",
    "        else:\n",
    "            link_info = self.Link_info[from_vdc][to_vdc]\n",
    "            distance = link_info['distance']\n",
    "            cost = 2000*q + q*20 * distance * 3\n",
    "        return cost\n",
    "\n",
    "    def reset(self):\n",
    "        self.total_q=0\n",
    "        self.q =0\n",
    "        self.rail_available = True\n",
    "        self.rdly_selected_vdc = \"BE\"\n",
    "        self.me = \"3A\"\n",
    "        self.num_of_send = 0\n",
    "        self.df_inventory = copy.deepcopy(self.initial_data[\"df_inventory\"])\n",
    "        self.current_time = copy.deepcopy(self.initial_data[\"start_date\"])\n",
    "        self.selected_vdc_from_3A = self.df_from_3A[['arrival_time', self.rdly_selected_vdc]]\n",
    "        self.selected_vdc_inventory_df = self.df_inventory[['arrival_time', self.rdly_selected_vdc]]\n",
    "        self.next_vdc_capa= 200\n",
    "        self.state, q = self.get_state()\n",
    "        self.done = False\n",
    "        self.steps = 0\n",
    "        self.OVERFLOW_VAR_COST = 10\n",
    "\n",
    "        return self.state\n",
    "    \n",
    "    def render(self, mode='human'):\n",
    "        return None # Not implementing a nice graphic!\n"
   ]
  },
  {
   "cell_type": "code",
   "execution_count": 319,
   "metadata": {},
   "outputs": [],
   "source": [
    "\n",
    "from collections import deque\n",
    "\n",
    "class ReplayBuffer(object):\n",
    "    def __init__(self, capacity):\n",
    "        self.buffer = deque(maxlen=capacity)\n",
    "    \n",
    "    def push(self, state, action, reward, next_state, done):\n",
    "        state      = np.expand_dims(state, 0)\n",
    "        next_state = np.expand_dims(next_state, 0)\n",
    "        self.buffer.append((state, action, reward, next_state, done))\n",
    "    \n",
    "    def sample(self, batch_size):\n",
    "        state, action, reward, next_state, done = zip(*random.sample(self.buffer, batch_size))\n",
    "        return np.concatenate(state), action, reward, np.concatenate(next_state), done\n",
    "    \n",
    "    def __len__(self):\n",
    "        return len(self.buffer)\n",
    "    \n",
    "def compute_td_loss(batch_size):\n",
    "    state, action, reward, next_state, done = replay_buffer.sample(batch_size)\n",
    "    state      = torch.autograd.Variable(torch.FloatTensor(state))\n",
    "    next_state = torch.autograd.Variable(torch.FloatTensor(next_state))\n",
    "    action     = torch.autograd.Variable(torch.LongTensor(action))\n",
    "    reward     = torch.autograd.Variable(torch.FloatTensor(reward))\n",
    "    done       = torch.autograd.Variable(torch.FloatTensor(done))\n",
    "    q_values      = model(state)\n",
    "    next_q_values = model(next_state)\n",
    "    q_value = q_values.view(-1, env.action_space.n, 2).gather(2, action.unsqueeze(2)).squeeze(2)\n",
    "    next_q_value = next_q_values.view(-1, env.action_space.n, 2).max(2)[0]\n",
    "    expected_q_value = reward + gamma * next_q_value.sum(dim=1) * (1 - done)\n",
    "    loss = (q_value.sum(dim=1) - torch.autograd.Variable(expected_q_value.data)).pow(2).mean()\n",
    "    optimizer.zero_grad()\n",
    "    loss.backward()\n",
    "    optimizer.step()\n",
    "    return loss"
   ]
  },
  {
   "cell_type": "code",
   "execution_count": 320,
   "metadata": {},
   "outputs": [],
   "source": [
    "epsilon_start = 1.0\n",
    "epsilon_final = 0.01\n",
    "epsilon_decay = 500\n",
    "epsilon_by_frame = lambda frame_idx: epsilon_final + (epsilon_start - epsilon_final) * math.exp(-1. * frame_idx / epsilon_decay)\n",
    "env = HUFSEnv_v1(\"2011-01-03\")\n",
    "state = env.reset()\n",
    "model = DQN(env.observation_space.shape[0], env.action_space.n)\n",
    "optimizer = optim.Adam(model.parameters())"
   ]
  },
  {
   "cell_type": "code",
   "execution_count": 321,
   "metadata": {
    "collapsed": false
   },
   "outputs": [
    {
     "name": "stdout",
     "output_type": "stream",
     "text": [
      "100\n"
     ]
    },
    {
     "name": "stdout",
     "output_type": "stream",
     "text": [
      "200\n"
     ]
    },
    {
     "name": "stdout",
     "output_type": "stream",
     "text": [
      "300\n"
     ]
    },
    {
     "name": "stdout",
     "output_type": "stream",
     "text": [
      "400\n"
     ]
    },
    {
     "name": "stdout",
     "output_type": "stream",
     "text": [
      "500\n"
     ]
    },
    {
     "name": "stdout",
     "output_type": "stream",
     "text": [
      "600\n"
     ]
    },
    {
     "name": "stdout",
     "output_type": "stream",
     "text": [
      "700\n"
     ]
    },
    {
     "name": "stdout",
     "output_type": "stream",
     "text": [
      "800\n"
     ]
    },
    {
     "name": "stdout",
     "output_type": "stream",
     "text": [
      "900\n"
     ]
    },
    {
     "name": "stdout",
     "output_type": "stream",
     "text": [
      "1000\n"
     ]
    },
    {
     "name": "stdout",
     "output_type": "stream",
     "text": [
      "1100\n"
     ]
    },
    {
     "name": "stdout",
     "output_type": "stream",
     "text": [
      "1200\n"
     ]
    },
    {
     "name": "stdout",
     "output_type": "stream",
     "text": [
      "1300\n"
     ]
    },
    {
     "name": "stdout",
     "output_type": "stream",
     "text": [
      "1400\n"
     ]
    },
    {
     "name": "stdout",
     "output_type": "stream",
     "text": [
      "1500\n"
     ]
    },
    {
     "name": "stdout",
     "output_type": "stream",
     "text": [
      "1600\n"
     ]
    },
    {
     "name": "stdout",
     "output_type": "stream",
     "text": [
      "1700\n"
     ]
    },
    {
     "name": "stdout",
     "output_type": "stream",
     "text": [
      "1800\n"
     ]
    },
    {
     "name": "stdout",
     "output_type": "stream",
     "text": [
      "1900\n"
     ]
    },
    {
     "name": "stdout",
     "output_type": "stream",
     "text": [
      "2000\n"
     ]
    },
    {
     "name": "stdout",
     "output_type": "stream",
     "text": [
      "2100\n"
     ]
    },
    {
     "name": "stdout",
     "output_type": "stream",
     "text": [
      "2200\n"
     ]
    },
    {
     "name": "stdout",
     "output_type": "stream",
     "text": [
      "2300\n"
     ]
    },
    {
     "name": "stdout",
     "output_type": "stream",
     "text": [
      "2400\n"
     ]
    },
    {
     "name": "stdout",
     "output_type": "stream",
     "text": [
      "2500\n"
     ]
    },
    {
     "name": "stdout",
     "output_type": "stream",
     "text": [
      "2600\n"
     ]
    },
    {
     "name": "stdout",
     "output_type": "stream",
     "text": [
      "2700\n"
     ]
    },
    {
     "name": "stdout",
     "output_type": "stream",
     "text": [
      "2800\n"
     ]
    },
    {
     "name": "stdout",
     "output_type": "stream",
     "text": [
      "2900\n"
     ]
    },
    {
     "name": "stdout",
     "output_type": "stream",
     "text": [
      "3000\n"
     ]
    },
    {
     "name": "stdout",
     "output_type": "stream",
     "text": [
      "3100\n"
     ]
    },
    {
     "name": "stdout",
     "output_type": "stream",
     "text": [
      "3200\n"
     ]
    },
    {
     "name": "stdout",
     "output_type": "stream",
     "text": [
      "3300\n"
     ]
    },
    {
     "name": "stdout",
     "output_type": "stream",
     "text": [
      "3400\n"
     ]
    },
    {
     "name": "stdout",
     "output_type": "stream",
     "text": [
      "3500\n"
     ]
    },
    {
     "name": "stdout",
     "output_type": "stream",
     "text": [
      "3600\n"
     ]
    },
    {
     "name": "stdout",
     "output_type": "stream",
     "text": [
      "3700\n"
     ]
    },
    {
     "name": "stdout",
     "output_type": "stream",
     "text": [
      "3800\n"
     ]
    },
    {
     "name": "stdout",
     "output_type": "stream",
     "text": [
      "3900\n"
     ]
    },
    {
     "name": "stdout",
     "output_type": "stream",
     "text": [
      "4000\n"
     ]
    },
    {
     "name": "stdout",
     "output_type": "stream",
     "text": [
      "4100\n"
     ]
    },
    {
     "name": "stdout",
     "output_type": "stream",
     "text": [
      "4200\n"
     ]
    },
    {
     "name": "stdout",
     "output_type": "stream",
     "text": [
      "4300\n"
     ]
    },
    {
     "name": "stdout",
     "output_type": "stream",
     "text": [
      "4400\n"
     ]
    },
    {
     "name": "stdout",
     "output_type": "stream",
     "text": [
      "4500\n"
     ]
    },
    {
     "name": "stdout",
     "output_type": "stream",
     "text": [
      "4600\n"
     ]
    },
    {
     "name": "stdout",
     "output_type": "stream",
     "text": [
      "4700\n"
     ]
    },
    {
     "name": "stdout",
     "output_type": "stream",
     "text": [
      "4800\n"
     ]
    },
    {
     "name": "stdout",
     "output_type": "stream",
     "text": [
      "4900\n"
     ]
    },
    {
     "name": "stdout",
     "output_type": "stream",
     "text": [
      "5000\n"
     ]
    },
    {
     "name": "stdout",
     "output_type": "stream",
     "text": [
      "5100\n"
     ]
    },
    {
     "name": "stdout",
     "output_type": "stream",
     "text": [
      "5200\n"
     ]
    },
    {
     "name": "stdout",
     "output_type": "stream",
     "text": [
      "5300\n"
     ]
    },
    {
     "name": "stdout",
     "output_type": "stream",
     "text": [
      "5400\n"
     ]
    },
    {
     "name": "stdout",
     "output_type": "stream",
     "text": [
      "5500\n"
     ]
    },
    {
     "name": "stdout",
     "output_type": "stream",
     "text": [
      "5600\n"
     ]
    },
    {
     "name": "stdout",
     "output_type": "stream",
     "text": [
      "5700\n"
     ]
    },
    {
     "name": "stdout",
     "output_type": "stream",
     "text": [
      "5800\n"
     ]
    },
    {
     "name": "stdout",
     "output_type": "stream",
     "text": [
      "5900\n"
     ]
    },
    {
     "name": "stdout",
     "output_type": "stream",
     "text": [
      "6000\n"
     ]
    },
    {
     "name": "stdout",
     "output_type": "stream",
     "text": [
      "6100\n"
     ]
    },
    {
     "name": "stdout",
     "output_type": "stream",
     "text": [
      "6200\n"
     ]
    },
    {
     "name": "stdout",
     "output_type": "stream",
     "text": [
      "6300\n"
     ]
    },
    {
     "name": "stdout",
     "output_type": "stream",
     "text": [
      "6400\n"
     ]
    },
    {
     "name": "stdout",
     "output_type": "stream",
     "text": [
      "6500\n"
     ]
    },
    {
     "name": "stdout",
     "output_type": "stream",
     "text": [
      "6600\n"
     ]
    },
    {
     "name": "stdout",
     "output_type": "stream",
     "text": [
      "6700\n"
     ]
    },
    {
     "name": "stdout",
     "output_type": "stream",
     "text": [
      "6800\n"
     ]
    },
    {
     "name": "stdout",
     "output_type": "stream",
     "text": [
      "6900\n"
     ]
    },
    {
     "name": "stdout",
     "output_type": "stream",
     "text": [
      "7000\n"
     ]
    },
    {
     "name": "stdout",
     "output_type": "stream",
     "text": [
      "7100\n"
     ]
    },
    {
     "name": "stdout",
     "output_type": "stream",
     "text": [
      "7200\n"
     ]
    },
    {
     "name": "stdout",
     "output_type": "stream",
     "text": [
      "7300\n"
     ]
    },
    {
     "name": "stdout",
     "output_type": "stream",
     "text": [
      "7400\n"
     ]
    },
    {
     "name": "stdout",
     "output_type": "stream",
     "text": [
      "7500\n"
     ]
    },
    {
     "name": "stdout",
     "output_type": "stream",
     "text": [
      "7600\n"
     ]
    },
    {
     "name": "stdout",
     "output_type": "stream",
     "text": [
      "7700\n"
     ]
    },
    {
     "name": "stdout",
     "output_type": "stream",
     "text": [
      "7800\n"
     ]
    },
    {
     "name": "stdout",
     "output_type": "stream",
     "text": [
      "7900\n"
     ]
    },
    {
     "name": "stdout",
     "output_type": "stream",
     "text": [
      "8000\n"
     ]
    },
    {
     "name": "stdout",
     "output_type": "stream",
     "text": [
      "8100\n"
     ]
    },
    {
     "name": "stdout",
     "output_type": "stream",
     "text": [
      "8200\n"
     ]
    },
    {
     "name": "stdout",
     "output_type": "stream",
     "text": [
      "8300\n"
     ]
    },
    {
     "name": "stdout",
     "output_type": "stream",
     "text": [
      "8400\n"
     ]
    },
    {
     "name": "stdout",
     "output_type": "stream",
     "text": [
      "8500\n"
     ]
    },
    {
     "name": "stdout",
     "output_type": "stream",
     "text": [
      "8600\n"
     ]
    },
    {
     "name": "stdout",
     "output_type": "stream",
     "text": [
      "8700\n"
     ]
    },
    {
     "name": "stdout",
     "output_type": "stream",
     "text": [
      "8800\n"
     ]
    },
    {
     "name": "stdout",
     "output_type": "stream",
     "text": [
      "8900\n"
     ]
    },
    {
     "name": "stdout",
     "output_type": "stream",
     "text": [
      "9000\n"
     ]
    },
    {
     "name": "stdout",
     "output_type": "stream",
     "text": [
      "9100\n"
     ]
    },
    {
     "name": "stdout",
     "output_type": "stream",
     "text": [
      "9200\n"
     ]
    },
    {
     "name": "stdout",
     "output_type": "stream",
     "text": [
      "9300\n"
     ]
    },
    {
     "name": "stdout",
     "output_type": "stream",
     "text": [
      "9400\n"
     ]
    },
    {
     "name": "stdout",
     "output_type": "stream",
     "text": [
      "9500\n"
     ]
    },
    {
     "name": "stdout",
     "output_type": "stream",
     "text": [
      "9600\n"
     ]
    },
    {
     "name": "stdout",
     "output_type": "stream",
     "text": [
      "9700\n"
     ]
    },
    {
     "name": "stdout",
     "output_type": "stream",
     "text": [
      "9800\n"
     ]
    },
    {
     "name": "stdout",
     "output_type": "stream",
     "text": [
      "9900\n"
     ]
    },
    {
     "name": "stdout",
     "output_type": "stream",
     "text": [
      "10000\n"
     ]
    },
    {
     "name": "stdout",
     "output_type": "stream",
     "text": [
      "10100\n"
     ]
    },
    {
     "name": "stdout",
     "output_type": "stream",
     "text": [
      "10200\n"
     ]
    },
    {
     "name": "stdout",
     "output_type": "stream",
     "text": [
      "10300\n"
     ]
    },
    {
     "name": "stdout",
     "output_type": "stream",
     "text": [
      "10400\n"
     ]
    },
    {
     "name": "stdout",
     "output_type": "stream",
     "text": [
      "10500\n"
     ]
    },
    {
     "name": "stdout",
     "output_type": "stream",
     "text": [
      "10600\n"
     ]
    },
    {
     "name": "stdout",
     "output_type": "stream",
     "text": [
      "10700\n"
     ]
    },
    {
     "name": "stdout",
     "output_type": "stream",
     "text": [
      "10800\n"
     ]
    },
    {
     "name": "stdout",
     "output_type": "stream",
     "text": [
      "10900\n"
     ]
    },
    {
     "name": "stdout",
     "output_type": "stream",
     "text": [
      "11000\n"
     ]
    },
    {
     "name": "stdout",
     "output_type": "stream",
     "text": [
      "11100\n"
     ]
    },
    {
     "name": "stdout",
     "output_type": "stream",
     "text": [
      "11200\n"
     ]
    },
    {
     "name": "stdout",
     "output_type": "stream",
     "text": [
      "11300\n"
     ]
    },
    {
     "name": "stdout",
     "output_type": "stream",
     "text": [
      "11400\n"
     ]
    },
    {
     "name": "stdout",
     "output_type": "stream",
     "text": [
      "11500\n"
     ]
    },
    {
     "name": "stdout",
     "output_type": "stream",
     "text": [
      "11600\n"
     ]
    },
    {
     "name": "stdout",
     "output_type": "stream",
     "text": [
      "11700\n"
     ]
    },
    {
     "name": "stdout",
     "output_type": "stream",
     "text": [
      "11800\n"
     ]
    },
    {
     "name": "stdout",
     "output_type": "stream",
     "text": [
      "11900\n"
     ]
    },
    {
     "name": "stdout",
     "output_type": "stream",
     "text": [
      "12000\n"
     ]
    },
    {
     "name": "stdout",
     "output_type": "stream",
     "text": [
      "12100\n"
     ]
    },
    {
     "name": "stdout",
     "output_type": "stream",
     "text": [
      "12200\n"
     ]
    },
    {
     "name": "stdout",
     "output_type": "stream",
     "text": [
      "12300\n"
     ]
    },
    {
     "name": "stdout",
     "output_type": "stream",
     "text": [
      "12400\n"
     ]
    },
    {
     "name": "stdout",
     "output_type": "stream",
     "text": [
      "12500\n"
     ]
    },
    {
     "name": "stdout",
     "output_type": "stream",
     "text": [
      "12600\n"
     ]
    },
    {
     "name": "stdout",
     "output_type": "stream",
     "text": [
      "12700\n"
     ]
    },
    {
     "name": "stdout",
     "output_type": "stream",
     "text": [
      "12800\n"
     ]
    },
    {
     "name": "stdout",
     "output_type": "stream",
     "text": [
      "12900\n"
     ]
    },
    {
     "name": "stdout",
     "output_type": "stream",
     "text": [
      "13000\n"
     ]
    },
    {
     "name": "stdout",
     "output_type": "stream",
     "text": [
      "13100\n"
     ]
    },
    {
     "name": "stdout",
     "output_type": "stream",
     "text": [
      "13200\n"
     ]
    },
    {
     "name": "stdout",
     "output_type": "stream",
     "text": [
      "13300\n"
     ]
    },
    {
     "name": "stdout",
     "output_type": "stream",
     "text": [
      "13400\n"
     ]
    },
    {
     "name": "stdout",
     "output_type": "stream",
     "text": [
      "13500\n"
     ]
    },
    {
     "name": "stdout",
     "output_type": "stream",
     "text": [
      "13600\n"
     ]
    },
    {
     "name": "stdout",
     "output_type": "stream",
     "text": [
      "13700\n"
     ]
    },
    {
     "name": "stdout",
     "output_type": "stream",
     "text": [
      "13800\n"
     ]
    },
    {
     "name": "stdout",
     "output_type": "stream",
     "text": [
      "13900\n"
     ]
    },
    {
     "name": "stdout",
     "output_type": "stream",
     "text": [
      "14000\n"
     ]
    },
    {
     "name": "stdout",
     "output_type": "stream",
     "text": [
      "14100\n"
     ]
    },
    {
     "name": "stdout",
     "output_type": "stream",
     "text": [
      "14200\n"
     ]
    },
    {
     "name": "stdout",
     "output_type": "stream",
     "text": [
      "14300\n"
     ]
    },
    {
     "name": "stdout",
     "output_type": "stream",
     "text": [
      "14400\n"
     ]
    },
    {
     "name": "stdout",
     "output_type": "stream",
     "text": [
      "14500\n"
     ]
    },
    {
     "name": "stdout",
     "output_type": "stream",
     "text": [
      "14600\n"
     ]
    },
    {
     "name": "stdout",
     "output_type": "stream",
     "text": [
      "14700\n"
     ]
    },
    {
     "name": "stdout",
     "output_type": "stream",
     "text": [
      "14800\n"
     ]
    },
    {
     "name": "stdout",
     "output_type": "stream",
     "text": [
      "14900\n"
     ]
    },
    {
     "name": "stdout",
     "output_type": "stream",
     "text": [
      "15000\n"
     ]
    },
    {
     "name": "stdout",
     "output_type": "stream",
     "text": [
      "15100\n"
     ]
    },
    {
     "name": "stdout",
     "output_type": "stream",
     "text": [
      "15200\n"
     ]
    },
    {
     "name": "stdout",
     "output_type": "stream",
     "text": [
      "15300\n"
     ]
    },
    {
     "name": "stdout",
     "output_type": "stream",
     "text": [
      "15400\n"
     ]
    },
    {
     "name": "stdout",
     "output_type": "stream",
     "text": [
      "15500\n"
     ]
    },
    {
     "name": "stdout",
     "output_type": "stream",
     "text": [
      "15600\n"
     ]
    },
    {
     "name": "stdout",
     "output_type": "stream",
     "text": [
      "15700\n"
     ]
    },
    {
     "name": "stdout",
     "output_type": "stream",
     "text": [
      "15800\n"
     ]
    },
    {
     "name": "stdout",
     "output_type": "stream",
     "text": [
      "15900\n"
     ]
    },
    {
     "name": "stdout",
     "output_type": "stream",
     "text": [
      "16000\n"
     ]
    }
   ],
   "source": [
    "num_frames = 16000\n",
    "batch_size = 160\n",
    "replay_buffer = ReplayBuffer(100 * batch_size) \n",
    "gamma      = 0.99\n",
    "losses = []\n",
    "episode_reward = 0\n",
    "avg_loss = 0\n",
    "avg_losses = []\n",
    "state = env.reset()\n",
    "for frame_idx in range(1, num_frames + 1):\n",
    "    if frame_idx %100==0:\n",
    "        epsilon = epsilon_by_frame(frame_idx)\n",
    "        action = get_action(env, state, model, epsilon)\n",
    "        next_state, reward, done, _ = env.step(action)\n",
    "        replay_buffer.push(state, action, reward, next_state, done)\n",
    "        state = next_state\n",
    "        episode_reward += reward\n",
    "    if done:\n",
    "        state = env.reset()\n",
    "    if len(replay_buffer) > batch_size:\n",
    "        loss = compute_td_loss(batch_size)\n",
    "        losses.append(loss.item())\n",
    "        avg_losses.append((avg_loss + loss.item())/frame_idx)\n",
    "        avg_loss = 0\n",
    "    try:\n",
    "        avg_loss = avg_loss + loss.item()\n",
    "    except:\n",
    "        pass\n",
    "env.close()"
   ]
  },
  {
   "cell_type": "code",
   "execution_count": 312,
   "metadata": {},
   "outputs": [],
   "source": [
    "torch.save(model.state_dict(), \"model_files/INTERVER6_model_static_dic_256_1600_16_10.pt\")"
   ]
  },
  {
   "cell_type": "code",
   "execution_count": 313,
   "metadata": {},
   "outputs": [],
   "source": [
    "torch.save(model, \"model_files/INTERVER6_model_256_1600_16_10.pt\")"
   ]
  },
  {
   "cell_type": "code",
   "execution_count": 322,
   "metadata": {},
   "outputs": [
    {
     "data": {
      "text/plain": [
       "DQN(\n  (layers): Sequential(\n    (0): Linear(in_features=16, out_features=256, bias=True)\n    (1): ReLU()\n    (2): Linear(in_features=256, out_features=256, bias=True)\n    (3): ReLU()\n    (4): Linear(in_features=256, out_features=2, bias=True)\n  )\n)"
      ]
     },
     "execution_count": 322,
     "metadata": {},
     "output_type": "execute_result"
    }
   ],
   "source": [
    ""
   ]
  },
  {
   "cell_type": "code",
   "execution_count": 326,
   "metadata": {},
   "outputs": [
    {
     "name": "stdout",
     "output_type": "stream",
     "text": [
      "[2, 17, 31, 38, 41, 46, 56, 58, 198, 200, 200, 200, 197, 193, 198, 197]\n200\n0\n"
     ]
    }
   ],
   "source": [
    ""
   ]
  },
  {
   "cell_type": "code",
   "execution_count": 327,
   "metadata": {},
   "outputs": [
    {
     "name": "stdout",
     "output_type": "stream",
     "text": [
      "0\n"
     ]
    }
   ],
   "source": [
    ""
   ]
  },
  {
   "cell_type": "code",
   "execution_count": 328,
   "metadata": {
    "collapsed": false
   },
   "outputs": [
    {
     "name": "stdout",
     "output_type": "stream",
     "text": [
      "0\nFalse\n-----------\naction!! [0]\n                           step!\n[2, 17, 31, 38, 41, 46, 56, 58] [198, 200, 200, 200, 197, 193, 198, 197] False {'trans_reward': 132947319.14323357, 'lead_time_reward': 5.0, 'overflow_cost': 0}\n------------\n1\nFalse\n-----------\naction!! [0]\n                           step!\n"
     ]
    },
    {
     "name": "stdout",
     "output_type": "stream",
     "text": [
      "[17, 31, 38, 41, 46, 56, 58, 65] [200, 200, 200, 200, 195, 199, 200, 198] False {'trans_reward': 0, 'lead_time_reward': 5.0, 'overflow_cost': 0}\n------------\n2\nFalse\n-----------\naction!! [0]\n                           step!\n[11, 18, 21, 26, 36, 38, 45, 52] [197, 198, 199, 200, 200, 197, 199, 198] False {'trans_reward': 126135.97641673015, 'lead_time_reward': 42.5, 'overflow_cost': 0}\n------------\n3\nFalse\n-----------\naction!! [0]\n                           step!\n"
     ]
    },
    {
     "name": "stdout",
     "output_type": "stream",
     "text": [
      "[18, 21, 26, 36, 38, 45, 52, 63] [200, 199, 199, 197, 198, 199, 193, 194] False {'trans_reward': 0, 'lead_time_reward': 27.5, 'overflow_cost': 0}\n------------\n4\nFalse\n-----------\naction!! [0]\n                           step!\n[1, 6, 16, 18, 25, 32, 43, 51] [199, 200, 198, 199, 197, 198, 199, 197] False {'trans_reward': 126135.97641673015, 'lead_time_reward': 45.0, 'overflow_cost': 0}\n------------\n5\nFalse\n-----------\naction!! [0]\n                           step!\n"
     ]
    },
    {
     "name": "stdout",
     "output_type": "stream",
     "text": [
      "[6, 16, 18, 25, 32, 43, 51, 57] [193, 200, 198, 196, 200, 199, 197, 198] False {'trans_reward': 0, 'lead_time_reward': 2.5, 'overflow_cost': 0}\n------------\n6\nFalse\n-----------\naction!! [0]\n                           step!\n[16, 18, 25, 32, 43, 51, 57, 66] [200, 198, 200, 200, 199, 197, 199, 194] False {'trans_reward': 0, 'lead_time_reward': 15.0, 'overflow_cost': 0}\n------------\n7\nFalse\n-----------\naction!! [0]\n                           step!\n"
     ]
    },
    {
     "name": "stdout",
     "output_type": "stream",
     "text": [
      "[18, 25, 32, 43, 51, 57, 66, 84] [199, 200, 198, 194, 200, 200, 200, 199] False {'trans_reward': 0, 'lead_time_reward': 40.0, 'overflow_cost': 0}\n------------\n8\nFalse\n-----------\naction!! [0]\n                           step!\n[5, 12, 23, 31, 37, 46, 64, 74] [200, 199, 200, 198, 197, 196, 191, 198] False {'trans_reward': 126135.97641673015, 'lead_time_reward': 45.0, 'overflow_cost': 0}\n------------\n9\nFalse\n-----------\naction!! [0]\n                           step!\n"
     ]
    },
    {
     "name": "stdout",
     "output_type": "stream",
     "text": [
      "[12, 23, 31, 37, 46, 64, 74, 80] [194, 199, 197, 197, 199, 200, 197, 198] False {'trans_reward': 0, 'lead_time_reward': 12.5, 'overflow_cost': 0}\n------------\n10\nFalse\n-----------\naction!! [0]\n                           step!\n[3, 11, 17, 26, 44, 54, 60, 72] [200, 194, 196, 200, 184, 198, 195, 199] False {'trans_reward': 126135.97641673015, 'lead_time_reward': 30.0, 'overflow_cost': 0}\n------------\n11\nFalse\n-----------\naction!! [0]\n                           step!\n"
     ]
    },
    {
     "name": "stdout",
     "output_type": "stream",
     "text": [
      "[11, 17, 26, 44, 54, 60, 72, 87] [200, 200, 198, 198, 199, 199, 197, 197] False {'trans_reward': 0, 'lead_time_reward': 7.5, 'overflow_cost': 0}\n------------\n12\nFalse\n-----------\naction!! [0]\n                           step!\n[17, 26, 44, 54, 60, 72, 87, 100] [200, 198, 200, 197, 196, 193, 193, 200] False {'trans_reward': 0, 'lead_time_reward': 27.5, 'overflow_cost': 0}\n------------\n13\nFalse\n-----------\naction!! [0]\n                           step!\n"
     ]
    },
    {
     "name": "stdout",
     "output_type": "stream",
     "text": [
      "[6, 24, 34, 40, 52, 67, 80, 96] [192, 194, 200, 197, 198, 197, 193, 196] False {'trans_reward': 126135.97641673015, 'lead_time_reward': 42.5, 'overflow_cost': 0}\n------------\n14\nFalse\n-----------\naction!! [0]\n                           step!\n[4, 14, 20, 32, 47, 60, 76, 94] [200, 196, 196, 200, 199, 196, 200, 200] False {'trans_reward': 126135.97641673015, 'lead_time_reward': 15.0, 'overflow_cost': 0}\n------------\n15\nFalse\n-----------\naction!! [0]\n                           step!\n"
     ]
    },
    {
     "name": "stdout",
     "output_type": "stream",
     "text": [
      "[14, 20, 32, 47, 60, 76, 94, 124] [198, 198, 197, 197, 196, 200, 196, -20888] False {'trans_reward': 0, 'lead_time_reward': 10.0, 'overflow_cost': 0}\n------------\n16\nFalse\n-----------\naction!! [0]\n                           step!\n[0, 12, 27, 40, 56, 74, 104, 116] [197, 200, 199, 199, 199, 195, 197, -20882] False {'trans_reward': 126135.97641673015, 'lead_time_reward': 35.0, 'overflow_cost': 0}\n------------\n17\nFalse\n-----------\naction!! [0]\n                           step!\n"
     ]
    },
    {
     "name": "stdout",
     "output_type": "stream",
     "text": [
      "[12, 27, 40, 56, 74, 104, 116, 124] [193, 198, 197, 197, 200, 198, 193, -20908] False {'trans_reward': 0, 'lead_time_reward': 0.0, 'overflow_cost': 0}\n------------\n18\nFalse\n-----------\naction!! [0]\n                           step!\n[7, 20, 36, 54, 84, 96, 104, 110] [199, 200, 198, 195, 194, 200, -20887, -20905] False {'trans_reward': 126135.97641673015, 'lead_time_reward': 30.0, 'overflow_cost': 0}\n------------\n19\nFalse\n-----------\naction!! [0]\n                           step!\n"
     ]
    },
    {
     "name": "stdout",
     "output_type": "stream",
     "text": [
      "[0, 16, 34, 64, 76, 84, 90, 102] [197, 199, 198, 195, 194, 199, -20880, -20925] False {'trans_reward': 126135.97641673015, 'lead_time_reward': 17.5, 'overflow_cost': 0}\n------------\n20\nFalse\n-----------\naction!! [0]\n                           step!\n[16, 34, 64, 76, 84, 90, 102, 114] [199, 193, 194, 195, 200, 190, -20902, -20930] False {'trans_reward': 0, 'lead_time_reward': 0.0, 'overflow_cost': 0}\n------------\n21\nFalse\n-----------\naction!! [0]\n                           step!\n"
     ]
    },
    {
     "name": "stdout",
     "output_type": "stream",
     "text": [
      "[14, 44, 56, 64, 70, 82, 94, 96] [198, 199, 197, 199, 199, 198, -20902, -20924] False {'trans_reward': 126135.97641673015, 'lead_time_reward': 40.0, 'overflow_cost': 0}\n------------\n22\nFalse\n-----------\naction!! [0]\n                           step!\n[4, 16, 24, 30, 42, 54, 56, 63] [199, 197, 198, 197, 200, -20886, -20931, -20923] False {'trans_reward': 252271.9528334603, 'lead_time_reward': 35.0, 'overflow_cost': 0}\n------------\n23\nFalse\n-----------\naction!! [0]\n                           step!\n"
     ]
    },
    {
     "name": "stdout",
     "output_type": "stream",
     "text": [
      "[16, 24, 30, 42, 54, 56, 63, 71] [197, 199, 194, 200, 200, -20881, -20936, -20945] False {'trans_reward': 0, 'lead_time_reward': 10.0, 'overflow_cost': 0}\n------------\n24\nFalse\n-----------\naction!! [0]\n                           step!\n[4, 10, 22, 34, 36, 43, 51, 62] [200, 200, 199, 196, 196, -20916, -20928, -20942] False {'trans_reward': 126135.97641673015, 'lead_time_reward': 40.0, 'overflow_cost': 0}\n------------\n25\nFalse\n-----------\naction!! [0]\n                           step!\n"
     ]
    },
    {
     "name": "stdout",
     "output_type": "stream",
     "text": [
      "[10, 22, 34, 36, 43, 51, 62, 80] [196, 191, 198, 200, -20882, -20904, -20926, -20949] False {'trans_reward': 0, 'lead_time_reward': 10.0, 'overflow_cost': 0}\n------------\n26\nFalse\n-----------\naction!! [0]\n                           step!\n[2, 14, 16, 23, 31, 42, 60, 65] [200, 197, 198, 200, -20884, -20925, -20941, -20942] False {'trans_reward': 126135.97641673015, 'lead_time_reward': 25.0, 'overflow_cost': 208820}\n------------\n27\nFalse\n-----------\naction!! [0]\n                           step!\n"
     ]
    },
    {
     "name": "stdout",
     "output_type": "stream",
     "text": [
      "[14, 16, 23, 31, 42, 60, 65, 75] [198, 195, 199, 199, -20900, -20926, -20946, -20922] False {'trans_reward': 0, 'lead_time_reward': 5.0, 'overflow_cost': 208840}\n------------\n28\nFalse\n-----------\naction!! [0]\n                           step!\n[16, 23, 31, 42, 60, 65, 75, 78] [199, 197, 197, 194, -20901, -20930, -20945, -20941] False {'trans_reward': 0, 'lead_time_reward': 35.0, 'overflow_cost': 209000}\n------------\n29\nFalse\n-----------\naction!! [0]\n                           step!\n"
     ]
    },
    {
     "name": "stdout",
     "output_type": "stream",
     "text": [
      "[3, 11, 22, 40, 45, 55, 58, 67] [193, 193, 200, -20880, -20933, -20921, -20945, -20967] False {'trans_reward': 126135.97641673015, 'lead_time_reward': 40.0, 'overflow_cost': 209010}\n------------\n30\nFalse\n-----------\naction!! [0]\n                           step!\n[11, 22, 40, 45, 55, 58, 67, 74] [197, 193, 196, -20882, -20933, -20940, -20927, -20964] False {'trans_reward': 0, 'lead_time_reward': 7.5, 'overflow_cost': 209330}\n------------\n31\nFalse\n-----------\naction!! [0]\n                           step!\n"
     ]
    },
    {
     "name": "stdout",
     "output_type": "stream",
     "text": [
      "[2, 20, 25, 35, 38, 47, 54, 65] [196, 200, 200, -20913, -20928, -20942, -20943, -20967] False {'trans_reward': 126135.97641673015, 'lead_time_reward': 27.5, 'overflow_cost': 209330}\n------------\n32\nFalse\n-----------\naction!! [0]\n                           step!\n[0, 5, 15, 18, 27, 34, 45, 49] [200, 196, -20888, -20906, -20927, -20945, -20960, -20978] False {'trans_reward': 126135.97641673015, 'lead_time_reward': 5.0, 'overflow_cost': 209280}\n------------\n33\nFalse\n-----------\naction!! [0]\n                           step!\n"
     ]
    },
    {
     "name": "stdout",
     "output_type": "stream",
     "text": [
      "[5, 15, 18, 27, 34, 45, 49, 54] [195, 197, -20882, -20931, -20943, -20942, -20964, -20969] False {'trans_reward': 0, 'lead_time_reward': 0.0, 'overflow_cost': 209270}\n------------\n34\nFalse\n-----------\naction!! [0]\n                           step!\n[15, 18, 27, 34, 45, 49, 54, 58] [198, 193, -20908, -20925, -20942, -20922, -20966, -20982] False {'trans_reward': 0, 'lead_time_reward': 12.5, 'overflow_cost': 209430}\n------------\n35\nFalse\n-----------\naction!! [0]\n                           step!\n"
     ]
    },
    {
     "name": "stdout",
     "output_type": "stream",
     "text": [
      "[18, 27, 34, 45, 49, 54, 58, 72] [200, -20887, -20905, -20927, -20942, -20944, -20965, -20981] False {'trans_reward': 0, 'lead_time_reward': 37.5, 'overflow_cost': 209420}\n------------\n36\nFalse\n-----------\naction!! [0]\n                           step!\n[7, 14, 25, 29, 34, 38, 52, 62] [199, -20880, -20925, -20920, -20950, -20962, -20965, -20980] False {'trans_reward': 126135.97641673015, 'lead_time_reward': 45.0, 'overflow_cost': 209420}\n------------\n37\nFalse\n-----------\naction!! [0]\n                           step!\n"
     ]
    },
    {
     "name": "stdout",
     "output_type": "stream",
     "text": [
      "[14, 25, 29, 34, 38, 52, 62, 63] [190, -20902, -20930, -20940, -20920, -20961, -20986, -21001] False {'trans_reward': 0, 'lead_time_reward': 17.5, 'overflow_cost': 209500}\n------------\n38\nFalse\n-----------\naction!! [0]\n                           step!\n[5, 9, 14, 18, 32, 42, 43, 50] [198, -20902, -20924, -20942, -20941, -20968, -20980, -21015] False {'trans_reward': 126135.97641673015, 'lead_time_reward': 35.0, 'overflow_cost': 209200}\n------------\n39\nFalse\n-----------\naction!! [0]\n                           step!\n"
     ]
    },
    {
     "name": "stdout",
     "output_type": "stream",
     "text": [
      "[9, 14, 18, 32, 42, 43, 50, 65] [-20886, -20931, -20923, -20942, -20967, -20971, -20980, -21005] False {'trans_reward': 0, 'lead_time_reward': 12.5, 'overflow_cost': 209410}\n------------\n40\nFalse\n-----------\naction!! [0]\n                           step!\n[14, 18, 32, 42, 43, 50, 65, 77] [-20881, -20936, -20945, -20942, -20963, -20960, -21001, -21008] False {'trans_reward': 0, 'lead_time_reward': 22.5, 'overflow_cost': 209670}\n------------\n41\nFalse\n-----------\naction!! [0]\n                           step!\n"
     ]
    },
    {
     "name": "stdout",
     "output_type": "stream",
     "text": [
      "[18, 32, 42, 43, 50, 65, 77, 85] [-20916, -20928, -20942, -20926, -20964, -20982, -21009, -21004] False {'trans_reward': 0, 'lead_time_reward': 35.0, 'overflow_cost': 209630}\n------------\n42\nFalse\n-----------\naction!! [0]\n                           step!\n[12, 22, 23, 30, 45, 57, 65, 88] [-20904, -20926, -20949, -20943, -20963, -20980, -21013, -20991] False {'trans_reward': 126135.97641673015, 'lead_time_reward': 45.0, 'overflow_cost': 209640}\n------------\n43\nFalse\n-----------\naction!! [0]\n                           step!\n"
     ]
    },
    {
     "name": "stdout",
     "output_type": "stream",
     "text": [
      "[2, 3, 10, 25, 37, 45, 68, 99] [-20925, -20941, -20942, -20963, -20964, -20983, -21011, -20991] False {'trans_reward': 126135.97641673015, 'lead_time_reward': 30.0, 'overflow_cost': 209630}\n------------\n44\nFalse\n-----------\naction!! [0]\n                           step!\n[3, 10, 25, 37, 45, 68, 99, 119] [-20926, -20946, -20922, -20961, -20982, -21001, -21002, -20998] False {'trans_reward': 0, 'lead_time_reward': 5.0, 'overflow_cost': 209640}\n------------\n45\nFalse\n-----------\naction!! [0]\n                           step!\n"
     ]
    },
    {
     "name": "stdout",
     "output_type": "stream",
     "text": [
      "[10, 25, 37, 45, 68, 99, 119, 131] [-20930, -20945, -20941, -20976, -20980, -21005, -21006, -20943] False {'trans_reward': 0, 'lead_time_reward': 7.5, 'overflow_cost': 209820}\n------------\n46\nFalse\n-----------\naction!! [0]\n                           step!\n[5, 17, 25, 48, 79, 99, 111, 141] [-20921, -20945, -20967, -20968, -20981, -21007, -20993, -20969] False {'trans_reward': 126135.97641673015, 'lead_time_reward': 25.0, 'overflow_cost': 209800}\n------------\n47\nFalse\n-----------\naction!! [0]\n                           step!\n"
     ]
    },
    {
     "name": "stdout",
     "output_type": "stream",
     "text": [
      "[17, 25, 48, 79, 99, 111, 141, 158] [-20940, -20927, -20964, -20962, -21001, -21007, -20981, -20963] False {'trans_reward': 0, 'lead_time_reward': 12.5, 'overflow_cost': 209810}\n------------\n48\nFalse\n-----------\naction!! [0]\n                           step!\n[5, 28, 59, 79, 91, 121, 138, 155] [-20942, -20943, -20967, -20980, -21010, -21013, -20944, -20962] False {'trans_reward': 126135.97641673015, 'lead_time_reward': 42.5, 'overflow_cost': 210010}\n------------\n49\nFalse\n-----------\naction!! [0]\n                           step!\n"
     ]
    },
    {
     "name": "stdout",
     "output_type": "stream",
     "text": [
      "[8, 39, 59, 71, 101, 118, 135, 144] [-20945, -20960, -20978, -20980, -21008, -20986, -20964, -20942] False {'trans_reward': 126135.97641673015, 'lead_time_reward': 12.5, 'overflow_cost': 210100}\n------------\n50\nFalse\n-----------\naction!! [0]\n                           step!\n[19, 39, 51, 81, 98, 115, 124, 138] [-20942, -20964, -20969, -20981, -21010, -20991, -20964, -20948] False {'trans_reward': 126135.97641673015, 'lead_time_reward': 20.0, 'overflow_cost': 210080}\n------------\n51\nFalse\n-----------\naction!! [0]\n                           step!\n"
     ]
    },
    {
     "name": "stdout",
     "output_type": "stream",
     "text": [
      "[19, 31, 61, 78, 95, 104, 118, 139] [-20922, -20966, -20982, -21002, -21016, -20982, -20971, -20960] False {'trans_reward': 126135.97641673015, 'lead_time_reward': 47.5, 'overflow_cost': 210100}\n------------\n52\nFalse\n-----------\naction!! [0]\n                           step!\n[11, 41, 58, 75, 84, 98, 119, 148] [-20944, -20965, -20981, -21013, -21002, -20943, -20942, -20941] False {'trans_reward': 126135.97641673015, 'lead_time_reward': 47.5, 'overflow_cost': 210160}\n------------\n53\nFalse\n-----------\naction!! [0]\n                           step!\n"
     ]
    },
    {
     "name": "stdout",
     "output_type": "stream",
     "text": [
      "[1, 18, 35, 44, 58, 79, 108, 125] [-20962, -20965, -20980, -21015, -20981, -20962, -20941, -20989] False {'trans_reward': 252271.9528334603, 'lead_time_reward': 27.5, 'overflow_cost': 210020}\n------------\n54\nFalse\n-----------\naction!! [0]\n                           step!\n[18, 35, 44, 58, 79, 108, 125, 145] [-20961, -20986, -21001, -21001, -20994, -20961, -20962, -20945] False {'trans_reward': 0, 'lead_time_reward': 2.5, 'overflow_cost': 209810}\n------------\n55\nFalse\n-----------\naction!! [0]\n                           step!\n"
     ]
    },
    {
     "name": "stdout",
     "output_type": "stream",
     "text": [
      "[15, 24, 38, 59, 88, 105, 125, 148] [-20968, -20980, -21015, -21008, -20951, -20967, -20947, -20921] False {'trans_reward': 126135.97641673015, 'lead_time_reward': 45.0, 'overflow_cost': 209940}\n------------\n56\nFalse\n-----------\naction!! [0]\n                           step!\n[4, 18, 39, 68, 85, 105, 128, 149] [-20971, -20980, -21005, -20984, -20964, -20945, -20966, -20922] False {'trans_reward': 126135.97641673015, 'lead_time_reward': 37.5, 'overflow_cost': 209510}\n------------\n57\nFalse\n-----------\naction!! [0]\n                           step!\n"
     ]
    },
    {
     "name": "stdout",
     "output_type": "stream",
     "text": [
      "[18, 39, 68, 85, 105, 128, 149, 158] [-20960, -21001, -21008, -20991, -20967, -20942, -20944, -20945] False {'trans_reward': 0, 'lead_time_reward': 10.0, 'overflow_cost': 209640}\n------------\n58\nFalse\n-----------\naction!! [0]\n                           step!\n[19, 48, 65, 85, 108, 129, 138, 143] [-20982, -21009, -21004, -20988, -20960, -20961, -20921, -20960] False {'trans_reward': 126135.97641673015, 'lead_time_reward': 45.0, 'overflow_cost': 209670}\n------------\n59\nFalse\n-----------\naction!! [0]\n                           step!\n"
     ]
    },
    {
     "name": "stdout",
     "output_type": "stream",
     "text": [
      "[8, 25, 45, 68, 89, 98, 103, 115] [-20980, -21013, -20991, -20946, -20940, -20946, -20920, -20945] False {'trans_reward': 252271.9528334603, 'lead_time_reward': 47.5, 'overflow_cost': 209600}\n------------\n60\nFalse\n-----------\naction!! [0]\n                           step!\n[5, 25, 48, 69, 78, 83, 95, 111] [-20983, -21011, -20991, -20961, -20948, -20969, -20944, -20943] False {'trans_reward': 126135.97641673015, 'lead_time_reward': 20.0, 'overflow_cost': 209400}\n------------\n61\nFalse\n-----------\naction!! [0]\n                           step!\n"
     ]
    },
    {
     "name": "stdout",
     "output_type": "stream",
     "text": [
      "[5, 28, 49, 58, 63, 75, 91, 96] [-21001, -21002, -20998, -20964, -20960, -20941, -20964, -20942] False {'trans_reward': 126135.97641673015, 'lead_time_reward': 12.5, 'overflow_cost': 209480}\n------------\n62\nFalse\n-----------\naction!! [0]\n                           step!\n[8, 29, 38, 43, 55, 71, 76, 91] [-21005, -21006, -20943, -20966, -20945, -20921, -20940, -20946] False {'trans_reward': 126135.97641673015, 'lead_time_reward': 12.5, 'overflow_cost': 209600}\n------------\n63\nFalse\n-----------\naction!! [0]\n                           step!\n"
     ]
    },
    {
     "name": "stdout",
     "output_type": "stream",
     "text": [
      "[9, 18, 23, 35, 51, 56, 71, 92] [-21007, -20993, -20969, -20943, -20968, -20930, -20944, -20962] False {'trans_reward': 126135.97641673015, 'lead_time_reward': 20.0, 'overflow_cost': 209450}\n------------\n64\nFalse\n-----------\naction!! [0]\n                           step!\n[18, 23, 35, 51, 56, 71, 92, 115] [-21007, -20981, -20963, -20945, -20946, -20942, -20949, -20986] False {'trans_reward': 0, 'lead_time_reward': 22.5, 'overflow_cost': 209680}\n------------\n65\nFalse\n-----------\naction!! [0]\n                           step!\n"
     ]
    },
    {
     "name": "stdout",
     "output_type": "stream",
     "text": [
      "[3, 15, 31, 36, 51, 72, 95, 109] [-21013, -20944, -20962, -20964, -20928, -20960, -20945, -20994] False {'trans_reward': 126135.97641673015, 'lead_time_reward': 45.0, 'overflow_cost': 209460}\n------------\n66\nFalse\n-----------\naction!! [0]\n                           step!\n[15, 31, 36, 51, 72, 95, 109, 122] [-20986, -20964, -20942, -20947, -20921, -20953, -20965, -20984] False {'trans_reward': 0, 'lead_time_reward': 7.5, 'overflow_cost': 209280}\n------------\n67\nFalse\n-----------\naction!! [0]\n                           step!\n"
     ]
    },
    {
     "name": "stdout",
     "output_type": "stream",
     "text": [
      "[11, 16, 31, 52, 75, 89, 102, 131] [-20991, -20964, -20948, -20961, -20941, -20959, -20991, -21002] False {'trans_reward': 126135.97641673015, 'lead_time_reward': 37.5, 'overflow_cost': 209210}\n------------\n68\nFalse\n-----------\naction!! [0]\n                           step!\n[16, 31, 52, 75, 89, 102, 131, 142] [-20982, -20971, -20960, -20941, -20961, -20947, -20981, -21043] False {'trans_reward': 0, 'lead_time_reward': 27.5, 'overflow_cost': 209410}\n------------\n69\nFalse\n-----------\naction!! [0]\n                           step!\n"
     ]
    },
    {
     "name": "stdout",
     "output_type": "stream",
     "text": [
      "[11, 32, 55, 69, 82, 111, 122, 125] [-20943, -20942, -20941, -20925, -20957, -20942, -20982, -21044] False {'trans_reward': 126135.97641673015, 'lead_time_reward': 40.0, 'overflow_cost': 209610}\n------------\n70\nFalse\n-----------\naction!! [0]\n                           step!\n[12, 35, 49, 62, 91, 102, 105, 117] [-20962, -20941, -20989, -20921, -20949, -20968, -21000, -21045] False {'trans_reward': 126135.97641673015, 'lead_time_reward': 27.5, 'overflow_cost': 209570}\n------------\n71\nFalse\n-----------\naction!! [0]\n                           step!\n"
     ]
    },
    {
     "name": "stdout",
     "output_type": "stream",
     "text": [
      "[15, 29, 42, 71, 82, 85, 97, 112] [-20961, -20962, -20945, -20943, -20951, -20984, -21043, -21044] False {'trans_reward': 126135.97641673015, 'lead_time_reward': 30.0, 'overflow_cost': 209490}\n------------\n72\nFalse\n-----------\naction!! [0]\n                           step!\n[9, 22, 51, 62, 65, 77, 92, 111] [-20967, -20947, -20921, -20965, -20947, -20983, -21030, -21025] False {'trans_reward': 126135.97641673015, 'lead_time_reward': 37.5, 'overflow_cost': 209510}\n------------\n73\nFalse\n-----------\naction!! [0]\n                           step!\n"
     ]
    },
    {
     "name": "stdout",
     "output_type": "stream",
     "text": [
      "[2, 31, 42, 45, 57, 72, 91, 96] [-20945, -20966, -20922, -20959, -20961, -20981, -21043, -21025] False {'trans_reward': 126135.97641673015, 'lead_time_reward': 22.5, 'overflow_cost': 209470}\n------------\n74\nFalse\n-----------\naction!! [0]\n                           step!\n[11, 22, 25, 37, 52, 71, 76, 91] [-20942, -20944, -20945, -20957, -20985, -21008, -21045, -21040] False {'trans_reward': 126135.97641673015, 'lead_time_reward': 5.0, 'overflow_cost': 209610}\n------------\n75\nFalse\n-----------\naction!! [0]\n                           step!\n"
     ]
    },
    {
     "name": "stdout",
     "output_type": "stream",
     "text": [
      "[2, 5, 17, 32, 51, 56, 71, 94] [-20961, -20921, -20960, -20940, -20984, -21041, -21024, -21041] False {'trans_reward': 126135.97641673015, 'lead_time_reward': 27.5, 'overflow_cost': 209850}\n------------\n76\nFalse\n-----------\naction!! [0]\n                           step!\n[5, 17, 32, 51, 56, 71, 94, 104] [-20946, -20920, -20945, -20945, -20985, -21028, -21027, -21028] False {'trans_reward': 0, 'lead_time_reward': 5.0, 'overflow_cost': 209840}\n------------\n77\nFalse\n-----------\naction!! [0]\n                           step!\n"
     ]
    },
    {
     "name": "stdout",
     "output_type": "stream",
     "text": [
      "[17, 32, 51, 56, 71, 94, 104, 113] [-20969, -20944, -20943, -20969, -21000, -21043, -21043, -21040] False {'trans_reward': 0, 'lead_time_reward': 12.5, 'overflow_cost': 209850}\n------------\n78\nFalse\n-----------\naction!! [0]\n                           step!\n[12, 31, 36, 51, 74, 84, 93, 115] [-20941, -20964, -20942, -20983, -21042, -21042, -21044, -21041] False {'trans_reward': 126135.97641673015, 'lead_time_reward': 42.5, 'overflow_cost': 210000}\n------------\n79\nFalse\n-----------\naction!! [0]\n                           step!\n"
     ]
    },
    {
     "name": "stdout",
     "output_type": "stream",
     "text": [
      "[11, 16, 31, 54, 64, 73, 95, 112] [-20921, -20940, -20946, -20987, -21053, -21022, -21025, -21021] False {'trans_reward': 126135.97641673015, 'lead_time_reward': 30.0, 'overflow_cost': 210420}\n------------\n80\nFalse\n-----------\naction!! [0]\n                           step!\n[16, 31, 54, 64, 73, 95, 112, 129] [-20930, -20944, -20962, -20983, -21040, -21024, -21040, -21043] False {'trans_reward': 0, 'lead_time_reward': 27.5, 'overflow_cost': 210530}\n------------\n81\nFalse\n-----------\naction!! [0]\n                           step!\n"
     ]
    },
    {
     "name": "stdout",
     "output_type": "stream",
     "text": [
      "[11, 34, 44, 53, 75, 92, 109, 114] [-20942, -20949, -20986, -21010, -21040, -21041, -21042, -21020] False {'trans_reward': 126135.97641673015, 'lead_time_reward': 40.0, 'overflow_cost': 210400}\n------------\n82\nFalse\n-----------\naction!! [0]\n                           step!\n[14, 24, 33, 55, 72, 89, 94, 99] [-20960, -20945, -20994, -21053, -21024, -21041, -21020, -21002] False {'trans_reward': 126135.97641673015, 'lead_time_reward': 27.5, 'overflow_cost': 210400}\n------------\n83\nFalse\n-----------\naction!! [0]\n                           step!\n"
     ]
    },
    {
     "name": "stdout",
     "output_type": "stream",
     "text": [
      "[4, 13, 35, 52, 69, 74, 79, 80] [-20953, -20965, -20984, -21024, -21024, -21022, -21044, -20980] False {'trans_reward': 126135.97641673015, 'lead_time_reward': 35.0, 'overflow_cost': 210240}\n------------\n84\nFalse\n-----------\naction!! [0]\n                           step!\n[13, 35, 52, 69, 74, 79, 80, 90] [-20959, -20991, -21002, -21042, -21044, -21040, -21020, -20981] False {'trans_reward': 0, 'lead_time_reward': 10.0, 'overflow_cost': 210240}\n------------\n85\nFalse\n-----------\naction!! [0]\n                           step!\n"
     ]
    },
    {
     "name": "stdout",
     "output_type": "stream",
     "text": [
      "[15, 32, 49, 54, 59, 60, 70, 70] [-20947, -20981, -21043, -21041, -21040, -21040, -21003, -20989] False {'trans_reward': 126135.97641673015, 'lead_time_reward': 32.5, 'overflow_cost': 210440}\n------------\n86\nFalse\n-----------\naction!! [0]\n                           step!\n[12, 29, 34, 39, 40, 50, 50, 51] [-20942, -20982, -21044, -21026, -21032, -21020, -20980, -20985] False {'trans_reward': 126135.97641673015, 'lead_time_reward': 37.5, 'overflow_cost': 210400}\n------------\n87\nFalse\n-----------\naction!! [0]\n                           step!\n"
     ]
    },
    {
     "name": "stdout",
     "output_type": "stream",
     "text": [
      "[9, 14, 19, 20, 30, 30, 31, 35] [-20968, -21000, -21045, -21022, -21042, -21040, -20980, -21001] False {'trans_reward': 126135.97641673015, 'lead_time_reward': 30.0, 'overflow_cost': 210320}\n------------\n88\nFalse\n-----------\naction!! [0]\n                           step!\n[14, 19, 20, 30, 30, 31, 35, 35] [-20984, -21043, -21044, -21041, -21040, -21021, -20981, -21016] False {'trans_reward': 0, 'lead_time_reward': 22.5, 'overflow_cost': 210420}\n------------\n89\nFalse\n-----------\naction!! [0]\n                           step!\n"
     ]
    },
    {
     "name": "stdout",
     "output_type": "stream",
     "text": [
      "[19, 20, 30, 30, 31, 35, 35, 35] [-20983, -21030, -21025, -21047, -21020, -21001, -20980, -21020] False {'trans_reward': 0, 'lead_time_reward': 35.0, 'overflow_cost': 210400}\n------------\n90\nFalse\n-----------\naction!! [0]\n                           step!\n[0, 10, 10, 11, 15, 15, 15, 15] [-20981, -21043, -21025, -21021, -21042, -20981, -21001, -21025] False {'trans_reward': 126135.97641673015, 'lead_time_reward': 47.5, 'overflow_cost': 210200}\n------------\n91\nFalse\n-----------\naction!! [0]\n                           step!\n"
     ]
    },
    {
     "name": "stdout",
     "output_type": "stream",
     "text": [
      "[10, 10, 11, 15, 15, 15, 15, 17] [-21008, -21045, -21040, -21041, -21023, -20984, -21007, -21020] False {'trans_reward': 0, 'lead_time_reward': 0.0, 'overflow_cost': 210420}\n------------\n92\nFalse\n-----------\naction!! [0]\n                           step!\n[10, 11, 15, 15, 15, 15, 17, 19] [-21041, -21024, -21041, -21040, -21003, -20984, -21026, -21005] False {'trans_reward': 0, 'lead_time_reward': 25.0, 'overflow_cost': 210230}\n------------\n93\nFalse\n-----------\naction!! [0]\n                           step!\n"
     ]
    },
    {
     "name": "stdout",
     "output_type": "stream",
     "text": [
      "[11, 15, 15, 15, 15, 17, 19, 20] [-21028, -21027, -21028, -21021, -20981, -20980, -21023, -21007] False {'trans_reward': 0, 'lead_time_reward': 25.0, 'overflow_cost': 210030}\n------------\n94\nFalse\n-----------\naction!! [0]\n                           step!\n[15, 15, 15, 15, 17, 19, 20, 20] [-21043, -21043, -21040, -21042, -20983, -21001, -21020, -21011] False {'trans_reward': 0, 'lead_time_reward': 27.5, 'overflow_cost': 209810}\n------------\n95\nFalse\n-----------\naction!! [0]\n                           step!\n"
     ]
    },
    {
     "name": "stdout",
     "output_type": "stream",
     "text": [
      "[15, 15, 15, 17, 19, 20, 20, 32] [-21042, -21044, -21041, -21025, -20984, -21005, -21003, -20983] False {'trans_reward': 0, 'lead_time_reward': 37.5, 'overflow_cost': 209830}\n------------\n96\nFalse\n-----------\naction!! [0]\n                           step!\n[15, 15, 17, 19, 20, 20, 32, 43] [-21022, -21025, -21021, -21001, -20980, -21029, -21005, -20981] False {'trans_reward': 0, 'lead_time_reward': 37.5, 'overflow_cost': 209840}\n------------\n97\nFalse\n-----------\naction!! [0]\n                           step!\n"
     ]
    },
    {
     "name": "stdout",
     "output_type": "stream",
     "text": [
      "[15, 17, 19, 20, 20, 32, 43, 49] [-21024, -21040, -21043, -20980, -21003, -21025, -21002, -20984] False {'trans_reward': 0, 'lead_time_reward': 37.5, 'overflow_cost': 209800}\n------------\n98\nFalse\n-----------\naction!! [0]\n                           step!\n[17, 19, 20, 20, 32, 43, 49, 60] [-21041, -21042, -21020, -20981, -21005, -21023, -20981, -20983] False {'trans_reward': 0, 'lead_time_reward': 37.5, 'overflow_cost': 210030}\n------------\n99\nFalse\n-----------\naction!! [0]\n                           step!\n"
     ]
    },
    {
     "name": "stdout",
     "output_type": "stream",
     "text": [
      "[19, 20, 20, 32, 43, 49, 60, 69] [-21041, -21020, -21002, -20980, -21021, -21023, -20982, -20986] False {'trans_reward': 0, 'lead_time_reward': 42.5, 'overflow_cost': 210050}\n------------\n100\nFalse\n-----------\naction!! [0]\n                           step!\n[0, 0, 12, 23, 29, 40, 49, 50] [-21022, -21044, -20980, -20986, -21023, -21009, -20981, -21001] False {'trans_reward': 126135.97641673015, 'lead_time_reward': 47.5, 'overflow_cost': 210210}\n------------\n101\nFalse\n-----------\naction!! [0]\n                           step!\n"
     ]
    },
    {
     "name": "stdout",
     "output_type": "stream",
     "text": [
      "[0, 12, 23, 29, 40, 49, 50, 52] [-21040, -21020, -20981, -21001, -21034, -21003, -20981, -21005] False {'trans_reward': 0, 'lead_time_reward': 0.0, 'overflow_cost': 210230}\n------------\n102\nFalse\n-----------\naction!! [0]\n                           step!\n[12, 23, 29, 40, 49, 50, 52, 55] [-21040, -21003, -20989, -21008, -21005, -20982, -20984, -21013] False {'trans_reward': 0, 'lead_time_reward': 0.0, 'overflow_cost': 210340}\n------------\n103\nFalse\n-----------\naction!! [0]\n                           step!\n"
     ]
    },
    {
     "name": "stdout",
     "output_type": "stream",
     "text": [
      "[3, 9, 20, 29, 30, 32, 35, 44] [-21020, -20980, -20985, -21027, -21004, -20985, -21012, -21004] False {'trans_reward': 126135.97641673015, 'lead_time_reward': 30.0, 'overflow_cost': 210050}\n------------\n104\nFalse\n-----------\naction!! [0]\n                           step!\n[9, 20, 29, 30, 32, 35, 44, 85] [-21040, -20980, -21001, -21022, -21006, -20984, -21002, -20985] False {'trans_reward': 0, 'lead_time_reward': 7.5, 'overflow_cost': 210040}\n------------\n105\nFalse\n-----------\naction!! [0]\n                           step!\n"
     ]
    },
    {
     "name": "stdout",
     "output_type": "stream",
     "text": [
      "[0, 9, 10, 12, 15, 24, 65, 81] [-21021, -20981, -21016, -21029, -20981, -20980, -21010, -20981] False {'trans_reward': 126135.97641673015, 'lead_time_reward': 22.5, 'overflow_cost': 210060}\n------------\n106\nFalse\n-----------\naction!! [0]\n                           step!\n[9, 10, 12, 15, 24, 65, 81, 93] [-21001, -20980, -21020, -21006, -20984, -20984, -21002, -20964] False {'trans_reward': 0, 'lead_time_reward': 0.0, 'overflow_cost': 209810}\n------------\n107\nFalse\n-----------\naction!! [0]\n                           step!\n"
     ]
    },
    {
     "name": "stdout",
     "output_type": "stream",
     "text": [
      "[10, 12, 15, 24, 65, 81, 93, 109] [-20981, -21001, -21025, -21008, -20983, -21000, -20982, -20962] False {'trans_reward': 0, 'lead_time_reward': 22.5, 'overflow_cost': 209840}\n------------\n108\nFalse\n-----------\naction!! [0]\n                           step!\n[12, 15, 24, 65, 81, 93, 109, 151] [-20984, -21007, -21020, -21002, -20986, -21012, -20984, -20952] False {'trans_reward': 0, 'lead_time_reward': 25.0, 'overflow_cost': 209830}\n------------\n109\nFalse\n-----------\naction!! [0]\n                           step!\n"
     ]
    },
    {
     "name": "stdout",
     "output_type": "stream",
     "text": [
      "[15, 24, 65, 81, 93, 109, 151, 162] [-20984, -21026, -21005, -20983, -20980, -21007, -20960, -20920] False {'trans_reward': 0, 'lead_time_reward': 30.0, 'overflow_cost': 209860}\n------------\n110\nFalse\n-----------\naction!! [0]\n                           step!\n[4, 45, 61, 73, 89, 131, 142, 151] [-20980, -21023, -21007, -20981, -21002, -21005, -20964, -20917] False {'trans_reward': 126135.97641673015, 'lead_time_reward': 37.5, 'overflow_cost': 209800}\n------------\n111\nFalse\n-----------\naction!! [0]\n                           step!\n"
     ]
    },
    {
     "name": "stdout",
     "output_type": "stream",
     "text": [
      "[5, 21, 33, 49, 91, 102, 111, 120] [-21001, -21020, -21011, -20980, -21000, -20984, -20945, -20902] False {'trans_reward': 252271.9528334603, 'lead_time_reward': 10.0, 'overflow_cost': 210020}\n------------\n112\nFalse\n-----------\naction!! [0]\n                           step!\n[1, 13, 29, 71, 82, 91, 100, 107] [-21005, -21003, -20983, -20990, -21008, -20980, -20921, -20902] False {'trans_reward': 126135.97641673015, 'lead_time_reward': 12.5, 'overflow_cost': 210000}\n------------\n113\nFalse\n-----------\naction!! [0]\n                           step!\n"
     ]
    },
    {
     "name": "stdout",
     "output_type": "stream",
     "text": [
      "[13, 29, 71, 82, 91, 100, 107, 108] [-21029, -21005, -20981, -20983, -21002, -20962, -20902, -20883] False {'trans_reward': 0, 'lead_time_reward': 2.5, 'overflow_cost': 210080}\n------------\n114\nFalse\n-----------\naction!! [0]\n                           step!\n[9, 51, 62, 71, 80, 87, 88, 92] [-21025, -21002, -20984, -21001, -20996, -20963, -20904, -20880] False {'trans_reward': 126135.97641673015, 'lead_time_reward': 32.5, 'overflow_cost': 210020}\n------------\n115\nFalse\n-----------\naction!! [0]\n                           step!\n"
     ]
    },
    {
     "name": "stdout",
     "output_type": "stream",
     "text": [
      "[11, 22, 31, 40, 47, 48, 52, 57] [-21023, -20981, -20983, -21004, -20981, -20948, -20900, -20903] False {'trans_reward': 252271.9528334603, 'lead_time_reward': 22.5, 'overflow_cost': 209960}\n------------\n116\nFalse\n-----------\naction!! [0]\n                           step!\n[2, 11, 20, 27, 28, 32, 37, 40] [-21023, -20982, -20986, -21003, -20974, -20941, -20883, -20902] False {'trans_reward': 126135.97641673015, 'lead_time_reward': 27.5, 'overflow_cost': 209810}\n------------\n117\nFalse\n-----------\naction!! [0]\n                           step!\n"
     ]
    },
    {
     "name": "stdout",
     "output_type": "stream",
     "text": [
      "[11, 20, 27, 28, 32, 37, 40, 41] [-21009, -20981, -21001, -21001, -20962, -20905, -20883, -20900] False {'trans_reward': 0, 'lead_time_reward': 5.0, 'overflow_cost': 209740}\n------------\n118\nFalse\n-----------\naction!! [0]\n                           step!\n[0, 7, 8, 12, 17, 20, 21, 25] [-21003, -20981, -21005, -20982, -20944, -20907, -20902, -20923] False {'trans_reward': 126135.97641673015, 'lead_time_reward': 27.5, 'overflow_cost': 209620}\n------------\n119\nFalse\n-----------\naction!! [0]\n                           step!\n"
     ]
    },
    {
     "name": "stdout",
     "output_type": "stream",
     "text": [
      "[7, 8, 12, 17, 20, 21, 25, 33] [-20982, -20984, -21013, -20980, -20921, -20902, -20906, -20925] False {'trans_reward': 0, 'lead_time_reward': 0.0, 'overflow_cost': 209440}\n------------\n120\nFalse\n-----------\naction!! [0]\n                           step!\n[8, 12, 17, 20, 21, 25, 33, 45] [-20985, -21012, -21004, -20962, -20906, -20886, -20903, -20944] False {'trans_reward': 0, 'lead_time_reward': 17.5, 'overflow_cost': 209210}\n------------\n121\nFalse\n-----------\naction!! [0]\n                           step!\n"
     ]
    },
    {
     "name": "stdout",
     "output_type": "stream",
     "text": [
      "[12, 17, 20, 21, 25, 33, 45, 64] [-20984, -21002, -20985, -20960, -20903, -20880, -20931, -20944] False {'trans_reward': 0, 'lead_time_reward': 20.0, 'overflow_cost': 209060}\n------------\n122\nFalse\n-----------\naction!! [0]\n                           step!\n[17, 20, 21, 25, 33, 45, 64, 75] [-20980, -21010, -20981, -20941, -20905, -20903, -20921, -20946] False {'trans_reward': 0, 'lead_time_reward': 30.0, 'overflow_cost': 209030}\n------------\n123\nFalse\n-----------\naction!! [0]\n                           step!\n"
     ]
    },
    {
     "name": "stdout",
     "output_type": "stream",
     "text": [
      "[0, 1, 5, 13, 25, 44, 55, 68] [-20984, -21002, -20964, -20923, -20885, -20908, -20943, -20924] False {'trans_reward': 126135.97641673015, 'lead_time_reward': 42.5, 'overflow_cost': 209050}\n------------\n124\nFalse\n-----------\naction!! [0]\n                           step!\n[1, 5, 13, 25, 44, 55, 68, 80] [-21000, -20982, -20962, -20902, -20880, -20900, -20944, -20926] False {'trans_reward': 0, 'lead_time_reward': 0.0, 'overflow_cost': 208850}\n------------\n125\nFalse\n-----------\naction!! [0]\n                           step!\n"
     ]
    },
    {
     "name": "stdout",
     "output_type": "stream",
     "text": [
      "[5, 13, 25, 44, 55, 68, 80, 88] [-21012, -20984, -20952, -20905, -20900, -20921, -20947, -20951] False {'trans_reward': 0, 'lead_time_reward': 2.5, 'overflow_cost': 208800}\n------------\n126\nFalse\n-----------\naction!! [0]\n                           step!\n[13, 25, 44, 55, 68, 80, 88, 93] [-21007, -20960, -20920, -20902, -20904, -20921, -20923, -20965] False {'trans_reward': 0, 'lead_time_reward': 12.5, 'overflow_cost': 209000}\n------------\n127\nFalse\n-----------\naction!! [0]\n                           step!\n"
     ]
    },
    {
     "name": "stdout",
     "output_type": "stream",
     "text": [
      "[5, 24, 35, 48, 60, 68, 73, 86] [-21005, -20964, -20917, -20881, -20902, -20944, -20926, -20983] False {'trans_reward': 126135.97641673015, 'lead_time_reward': 32.5, 'overflow_cost': 209040}\n------------\n128\nFalse\n-----------\naction!! [0]\n                           step!\n[4, 15, 28, 40, 48, 53, 66, 85] [-20984, -20945, -20902, -20882, -20923, -20959, -20943, -20972] False {'trans_reward': 126135.97641673015, 'lead_time_reward': 12.5, 'overflow_cost': 209020}\n------------\n129\nFalse\n-----------\naction!! [0]\n                           step!\n"
     ]
    },
    {
     "name": "stdout",
     "output_type": "stream",
     "text": [
      "[15, 28, 40, 48, 53, 66, 85, 93] [-20980, -20921, -20902, -20904, -20920, -20943, -20964, -20981] False {'trans_reward': 0, 'lead_time_reward': 10.0, 'overflow_cost': 209230}\n------------\n130\nFalse\n-----------\naction!! [0]\n                           step!\n[8, 20, 28, 33, 46, 65, 73, 80] [-20962, -20902, -20883, -20907, -20945, -20921, -20981, -21040] False {'trans_reward': 126135.97641673015, 'lead_time_reward': 37.5, 'overflow_cost': 209200}\n------------\n131\nFalse\n-----------\naction!! [0]\n                           step!\n"
     ]
    },
    {
     "name": "stdout",
     "output_type": "stream",
     "text": [
      "[0, 8, 13, 26, 45, 53, 60, 68] [-20963, -20904, -20880, -20903, -20949, -20920, -20964, -21046] False {'trans_reward': 126135.97641673015, 'lead_time_reward': 20.0, 'overflow_cost': 209450}\n------------\n132\nFalse\n-----------\naction!! [0]\n                           step!\n[8, 13, 26, 45, 53, 60, 68, 70] [-20948, -20900, -20903, -20922, -20945, -20944, -20985, -21054] False {'trans_reward': 0, 'lead_time_reward': 0.0, 'overflow_cost': 209490}\n------------\n133\nFalse\n-----------\naction!! [0]\n                           step!\n"
     ]
    },
    {
     "name": "stdout",
     "output_type": "stream",
     "text": [
      "[13, 26, 45, 53, 60, 68, 70, 80] [-20941, -20883, -20902, -20926, -20921, -20960, -21032, -21047] False {'trans_reward': 0, 'lead_time_reward': 20.0, 'overflow_cost': 209450}\n------------\n134\nFalse\n-----------\naction!! [0]\n                           step!\n[6, 25, 33, 40, 48, 50, 60, 65] [-20905, -20883, -20900, -20951, -20920, -20988, -21044, -21008] False {'trans_reward': 126135.97641673015, 'lead_time_reward': 32.5, 'overflow_cost': 209210}\n------------\n135\nFalse\n-----------\naction!! [0]\n                           step!\n"
     ]
    },
    {
     "name": "stdout",
     "output_type": "stream",
     "text": [
      "[5, 13, 20, 28, 30, 40, 45, 57] [-20907, -20902, -20923, -20940, -20942, -20967, -21051, -20984] False {'trans_reward': 126135.97641673015, 'lead_time_reward': 15.0, 'overflow_cost': 209200}\n------------\n136\nFalse\n-----------\naction!! [0]\n                           step!\n[13, 20, 28, 30, 40, 45, 57, 76] [-20902, -20906, -20925, -20942, -20969, -20996, -21052, -20981] False {'trans_reward': 0, 'lead_time_reward': 12.5, 'overflow_cost': 209420}\n------------\n137\nFalse\n-----------\naction!! [0]\n                           step!\n"
     ]
    },
    {
     "name": "stdout",
     "output_type": "stream",
     "text": [
      "[0, 8, 10, 20, 25, 37, 56, 70] [-20886, -20903, -20944, -20922, -20982, -21029, -21003, -20961] False {'trans_reward': 126135.97641673015, 'lead_time_reward': 32.5, 'overflow_cost': 209690}\n------------\n138\nFalse\n-----------\naction!! [0]\n                           step!\n[8, 10, 20, 25, 37, 56, 70, 83] [-20880, -20931, -20944, -20920, -20969, -21046, -20986, -20943] False {'trans_reward': 0, 'lead_time_reward': 0.0, 'overflow_cost': 209820}\n------------\n139\nFalse\n-----------\naction!! [0]\n                           step!\n"
     ]
    },
    {
     "name": "stdout",
     "output_type": "stream",
     "text": [
      "[10, 20, 25, 37, 56, 70, 83, 89] [-20903, -20921, -20946, -20946, -20982, -21052, -20982, -20920] False {'trans_reward': 0, 'lead_time_reward': 20.0, 'overflow_cost': 209690}\n------------\n140\nFalse\n-----------\naction!! [0]\n                           step!\n[0, 5, 17, 36, 50, 63, 69, 82] [-20908, -20943, -20924, -20960, -21035, -21047, -20962, -20922] False {'trans_reward': 126135.97641673015, 'lead_time_reward': 25.0, 'overflow_cost': 209820}\n------------\n141\nFalse\n-----------\naction!! [0]\n                           step!\n"
     ]
    },
    {
     "name": "stdout",
     "output_type": "stream",
     "text": [
      "[5, 17, 36, 50, 63, 69, 82, 87] [-20900, -20944, -20926, -20993, -21049, -21002, -20941, -20901] False {'trans_reward': 0, 'lead_time_reward': 0.0, 'overflow_cost': 210350}\n------------\n142\nFalse\n-----------\naction!! [0]\n                           step!\n[17, 36, 50, 63, 69, 82, 87, 97] [-20921, -20947, -20951, -20968, -21048, -20980, -20926, -20923] False {'trans_reward': 0, 'lead_time_reward': 12.5, 'overflow_cost': 210490}\n------------\n143\nFalse\n-----------\naction!! [0]\n                           step!\n"
     ]
    },
    {
     "name": "stdout",
     "output_type": "stream",
     "text": [
      "[16, 30, 43, 49, 62, 67, 77, 85] [-20921, -20923, -20965, -20987, -21047, -20980, -20921, -20949] False {'trans_reward': 126135.97641673015, 'lead_time_reward': 42.5, 'overflow_cost': 210480}\n------------\n144\nFalse\n-----------\naction!! [0]\n                           step!\n[10, 23, 29, 42, 47, 57, 65, 84] [-20944, -20926, -20983, -21022, -21003, -20965, -20903, -20947] False {'trans_reward': 126135.97641673015, 'lead_time_reward': 40.0, 'overflow_cost': 210470}\n------------\n145\nFalse\n-----------\naction!! [0]\n                           step!\n"
     ]
    },
    {
     "name": "stdout",
     "output_type": "stream",
     "text": [
      "[3, 9, 22, 27, 37, 45, 64, 80] [-20959, -20943, -20972, -21044, -20985, -20941, -20928, -20961] False {'trans_reward': 126135.97641673015, 'lead_time_reward': 25.0, 'overflow_cost': 210030}\n------------\n146\nFalse\n-----------\naction!! [0]\n                           step!\n[9, 22, 27, 37, 45, 64, 80, 92] [-20943, -20964, -20981, -21055, -20980, -20924, -20951, -20973] False {'trans_reward': 0, 'lead_time_reward': 7.5, 'overflow_cost': 209850}\n------------\n147\nFalse\n-----------\naction!! [0]\n                           step!\n"
     ]
    },
    {
     "name": "stdout",
     "output_type": "stream",
     "text": [
      "[2, 7, 17, 25, 44, 60, 72, 82] [-20921, -20981, -21040, -21043, -20960, -20924, -20945, -20964] False {'trans_reward': 126135.97641673015, 'lead_time_reward': 22.5, 'overflow_cost': 209800}\n------------\n148\nFalse\n-----------\naction!! [0]\n                           step!\n[7, 17, 25, 44, 60, 72, 82, 107] [-20920, -20964, -21046, -21003, -20942, -20906, -20962, -20963] False {'trans_reward': 0, 'lead_time_reward': 5.0, 'overflow_cost': 209600}\n------------\n149\nFalse\n-----------\naction!! [0]\n                           step!\n"
     ]
    },
    {
     "name": "stdout",
     "output_type": "stream",
     "text": [
      "[17, 25, 44, 60, 72, 82, 107, 115] [-20944, -20985, -21054, -20982, -20925, -20921, -20977, -20980] False {'trans_reward': 0, 'lead_time_reward': 17.5, 'overflow_cost': 209420}\n------------\n150\nFalse\n-----------\naction!! [0]\n                           step!\n[5, 24, 40, 52, 62, 87, 95, 106] [-20960, -21032, -21047, -20982, -20922, -20946, -20970, -20984] False {'trans_reward': 126135.97641673015, 'lead_time_reward': 42.5, 'overflow_cost': 209250}\n------------\n151\nFalse\n-----------\naction!! [0]\n                           step!\n"
     ]
    },
    {
     "name": "stdout",
     "output_type": "stream",
     "text": [
      "[4, 20, 32, 42, 67, 75, 86, 101] [-20988, -21044, -21008, -20968, -20900, -20941, -20973, -20966] False {'trans_reward': 126135.97641673015, 'lead_time_reward': 12.5, 'overflow_cost': 209220}\n------------\n152\nFalse\n-----------\naction!! [0]\n                           step!\n[0, 12, 22, 47, 55, 66, 81, 96] [-20967, -21051, -20984, -20942, -20921, -20967, -20980, -20986] False {'trans_reward': 126135.97641673015, 'lead_time_reward': 10.0, 'overflow_cost': 209000}\n------------\n153\nFalse\n-----------\naction!! [0]\n                           step!\n"
     ]
    },
    {
     "name": "stdout",
     "output_type": "stream",
     "text": [
      "[12, 22, 47, 55, 66, 81, 96, 101] [-20996, -21052, -20981, -20921, -20944, -20980, -20990, -20968] False {'trans_reward': 0, 'lead_time_reward': 0.0, 'overflow_cost': 209210}\n------------\n154\nFalse\n-----------\naction!! [0]\n                           step!\n[2, 27, 35, 46, 61, 76, 81, 91] [-21029, -21003, -20961, -20922, -20953, -20964, -20962, -20944] False {'trans_reward': 126135.97641673015, 'lead_time_reward': 30.0, 'overflow_cost': 209440}\n------------\n155\nFalse\n-----------\naction!! [0]\n                           step!\n"
     ]
    },
    {
     "name": "stdout",
     "output_type": "stream",
     "text": [
      "[7, 15, 26, 41, 56, 61, 71, 94] [-21046, -20986, -20943, -20900, -20962, -20963, -20994, -20963] False {'trans_reward': 126135.97641673015, 'lead_time_reward': 5.0, 'overflow_cost': 209530}\n------------\n156\nFalse\n-----------\naction!! [0]\n                           step!\n[15, 26, 41, 56, 61, 71, 94, 114] [-21052, -20982, -20920, -20921, -20971, -20987, -20961, -20962] False {'trans_reward': 0, 'lead_time_reward': 17.5, 'overflow_cost': 209620}\n------------\n157\nFalse\n-----------\naction!! [0]\n                           step!\n"
     ]
    },
    {
     "name": "stdout",
     "output_type": "stream",
     "text": [
      "[6, 21, 36, 41, 51, 74, 94, 103] [-21047, -20962, -20922, -20945, -20961, -20986, -20944, -20948] False {'trans_reward': 126135.97641673015, 'lead_time_reward': 37.5, 'overflow_cost': 209710}\n------------\n158\nFalse\n-----------\naction!! [0]\n                           step!\n[1, 16, 21, 31, 54, 74, 83, 100] [-21002, -20941, -20901, -20942, -20974, -20963, -20962, -20946] False {'trans_reward': 126135.97641673015, 'lead_time_reward': 15.0, 'overflow_cost': 209610}\n------------\n159\nFalse\n-----------\naction!! [0]\n                           step!\n"
     ]
    },
    {
     "name": "stdout",
     "output_type": "stream",
     "text": [
      "[16, 21, 31, 54, 74, 83, 100, 126] [-20980, -20926, -20923, -20967, -20981, -20993, -20961, -20961] False {'trans_reward': 0, 'lead_time_reward': 2.5, 'overflow_cost': 209740}\n------------\n160\nFalse\n-----------\naction!! [0]\n                           step!\n[1, 11, 34, 54, 63, 80, 106, 118] [-20980, -20921, -20949, -20969, -20986, -20962, -20941, -20960] False {'trans_reward': 126135.97641673015, 'lead_time_reward': 40.0, 'overflow_cost': 209810}\n------------\n161\nFalse\n-----------\naction!! [0]\n                           step!\n"
     ]
    },
    {
     "name": "stdout",
     "output_type": "stream",
     "text": [
      "[11, 34, 54, 63, 80, 106, 118, 128] [-20965, -20903, -20947, -20972, -20965, -20943, -20946, -20966] False {'trans_reward': 0, 'lead_time_reward': 2.5, 'overflow_cost': 209860}\n------------\n162\nFalse\n-----------\naction!! [0]\n                           step!\n[14, 34, 43, 60, 86, 98, 108, 118] [-20941, -20928, -20961, -20962, -20989, -20961, -20965, -20987] False {'trans_reward': 126135.97641673015, 'lead_time_reward': 27.5, 'overflow_cost': 209650}\n------------\n163\nFalse\n-----------\naction!! [0]\n                           step!\n"
     ]
    },
    {
     "ename": "KeyboardInterrupt",
     "evalue": "",
     "traceback": [
      "\u001b[1;31m---------------------------------------------------------------------------\u001b[0m",
      "\u001b[1;31mKeyboardInterrupt\u001b[0m                         Traceback (most recent call last)",
      "\u001b[1;32m<ipython-input-328-1cbc1c57a36a>\u001b[0m in \u001b[0;36m<module>\u001b[1;34m\u001b[0m\n\u001b[0;32m     18\u001b[0m \u001b[1;33m\u001b[0m\u001b[0m\n\u001b[0;32m     19\u001b[0m     \u001b[0mprint\u001b[0m\u001b[1;33m(\u001b[0m\u001b[1;34m\"                           step!\"\u001b[0m\u001b[1;33m)\u001b[0m\u001b[1;33m\u001b[0m\u001b[1;33m\u001b[0m\u001b[0m\n\u001b[1;32m---> 20\u001b[1;33m     \u001b[0mstate\u001b[0m\u001b[1;33m,\u001b[0m \u001b[0mreward\u001b[0m\u001b[1;33m,\u001b[0m \u001b[0mdone\u001b[0m\u001b[1;33m,\u001b[0m \u001b[0m_\u001b[0m \u001b[1;33m=\u001b[0m \u001b[0menv2\u001b[0m\u001b[1;33m.\u001b[0m\u001b[0mstep\u001b[0m\u001b[1;33m(\u001b[0m\u001b[0maction\u001b[0m\u001b[1;33m)\u001b[0m\u001b[1;33m\u001b[0m\u001b[1;33m\u001b[0m\u001b[0m\n\u001b[0m\u001b[0;32m     21\u001b[0m \u001b[1;33m\u001b[0m\u001b[0m\n\u001b[0;32m     22\u001b[0m     \u001b[1;31m# print(reward)\u001b[0m\u001b[1;33m\u001b[0m\u001b[1;33m\u001b[0m\u001b[1;33m\u001b[0m\u001b[0m\n",
      "\u001b[1;32m<ipython-input-318-3528d0964864>\u001b[0m in \u001b[0;36mstep\u001b[1;34m(self, action)\u001b[0m\n\u001b[0;32m    167\u001b[0m  \u001b[1;31m######################################################################\u001b[0m\u001b[1;33m\u001b[0m\u001b[1;33m\u001b[0m\u001b[1;33m\u001b[0m\u001b[0m\n\u001b[0;32m    168\u001b[0m \u001b[1;33m\u001b[0m\u001b[0m\n\u001b[1;32m--> 169\u001b[1;33m         \u001b[0mself\u001b[0m\u001b[1;33m.\u001b[0m\u001b[0mstate\u001b[0m\u001b[1;33m,\u001b[0m \u001b[0mq\u001b[0m \u001b[1;33m=\u001b[0m \u001b[0mself\u001b[0m\u001b[1;33m.\u001b[0m\u001b[0mget_state\u001b[0m\u001b[1;33m(\u001b[0m\u001b[1;33m)\u001b[0m\u001b[1;33m\u001b[0m\u001b[1;33m\u001b[0m\u001b[0m\n\u001b[0m\u001b[0;32m    170\u001b[0m \u001b[1;33m\u001b[0m\u001b[0m\n\u001b[0;32m    171\u001b[0m \u001b[1;33m\u001b[0m\u001b[0m\n",
      "\u001b[1;32m<ipython-input-318-3528d0964864>\u001b[0m in \u001b[0;36mget_state\u001b[1;34m(self)\u001b[0m\n\u001b[0;32m     75\u001b[0m                                                                     <= self.current_time + timedelta(days=0.85 * t)]\n\u001b[0;32m     76\u001b[0m                                      [self.rdly_selected_vdc])\n\u001b[1;32m---> 77\u001b[1;33m             \u001b[1;32mfor\u001b[0m \u001b[0mt\u001b[0m \u001b[1;32min\u001b[0m \u001b[0mrange\u001b[0m\u001b[1;33m(\u001b[0m\u001b[0mself\u001b[0m\u001b[1;33m.\u001b[0m\u001b[0mNUM_LOOKING_FORWARD\u001b[0m\u001b[1;33m)\u001b[0m\u001b[1;33m\u001b[0m\u001b[1;33m\u001b[0m\u001b[0m\n\u001b[0m\u001b[0;32m     78\u001b[0m         ]\n\u001b[0;32m     79\u001b[0m \u001b[1;33m\u001b[0m\u001b[0m\n",
      "\u001b[1;32m<ipython-input-318-3528d0964864>\u001b[0m in \u001b[0;36m<listcomp>\u001b[1;34m(.0)\u001b[0m\n\u001b[0;32m     75\u001b[0m                                                                     <= self.current_time + timedelta(days=0.85 * t)]\n\u001b[0;32m     76\u001b[0m                                      [self.rdly_selected_vdc])\n\u001b[1;32m---> 77\u001b[1;33m             \u001b[1;32mfor\u001b[0m \u001b[0mt\u001b[0m \u001b[1;32min\u001b[0m \u001b[0mrange\u001b[0m\u001b[1;33m(\u001b[0m\u001b[0mself\u001b[0m\u001b[1;33m.\u001b[0m\u001b[0mNUM_LOOKING_FORWARD\u001b[0m\u001b[1;33m)\u001b[0m\u001b[1;33m\u001b[0m\u001b[1;33m\u001b[0m\u001b[0m\n\u001b[0m\u001b[0;32m     78\u001b[0m         ]\n\u001b[0;32m     79\u001b[0m \u001b[1;33m\u001b[0m\u001b[0m\n",
      "\u001b[1;32m~\\Anaconda3\\envs\\INFORMS2\\lib\\site-packages\\pandas\\core\\ops.py\u001b[0m in \u001b[0;36mwrapper\u001b[1;34m(self, other, axis)\u001b[0m\n\u001b[0;32m   1228\u001b[0m \u001b[1;33m\u001b[0m\u001b[0m\n\u001b[0;32m   1229\u001b[0m             res_values = dispatch_to_index_op(op, self, other,\n\u001b[1;32m-> 1230\u001b[1;33m                                               pd.DatetimeIndex)\n\u001b[0m\u001b[0;32m   1231\u001b[0m \u001b[1;33m\u001b[0m\u001b[0m\n\u001b[0;32m   1232\u001b[0m             return self._constructor(res_values, index=self.index,\n",
      "\u001b[1;32m~\\Anaconda3\\envs\\INFORMS2\\lib\\site-packages\\pandas\\core\\ops.py\u001b[0m in \u001b[0;36mdispatch_to_index_op\u001b[1;34m(op, left, right, index_class)\u001b[0m\n\u001b[0;32m   1099\u001b[0m         \u001b[0mleft_idx\u001b[0m \u001b[1;33m=\u001b[0m \u001b[0mleft_idx\u001b[0m\u001b[1;33m.\u001b[0m\u001b[0m_shallow_copy\u001b[0m\u001b[1;33m(\u001b[0m\u001b[0mfreq\u001b[0m\u001b[1;33m=\u001b[0m\u001b[1;32mNone\u001b[0m\u001b[1;33m)\u001b[0m\u001b[1;33m\u001b[0m\u001b[1;33m\u001b[0m\u001b[0m\n\u001b[0;32m   1100\u001b[0m     \u001b[1;32mtry\u001b[0m\u001b[1;33m:\u001b[0m\u001b[1;33m\u001b[0m\u001b[1;33m\u001b[0m\u001b[0m\n\u001b[1;32m-> 1101\u001b[1;33m         \u001b[0mresult\u001b[0m \u001b[1;33m=\u001b[0m \u001b[0mop\u001b[0m\u001b[1;33m(\u001b[0m\u001b[0mleft_idx\u001b[0m\u001b[1;33m,\u001b[0m \u001b[0mright\u001b[0m\u001b[1;33m)\u001b[0m\u001b[1;33m\u001b[0m\u001b[1;33m\u001b[0m\u001b[0m\n\u001b[0m\u001b[0;32m   1102\u001b[0m     \u001b[1;32mexcept\u001b[0m \u001b[0mNullFrequencyError\u001b[0m\u001b[1;33m:\u001b[0m\u001b[1;33m\u001b[0m\u001b[1;33m\u001b[0m\u001b[0m\n\u001b[0;32m   1103\u001b[0m         \u001b[1;31m# DatetimeIndex and TimedeltaIndex with freq == None raise ValueError\u001b[0m\u001b[1;33m\u001b[0m\u001b[1;33m\u001b[0m\u001b[1;33m\u001b[0m\u001b[0m\n",
      "\u001b[1;32m~\\Anaconda3\\envs\\INFORMS2\\lib\\site-packages\\pandas\\core\\indexes\\datetimes.py\u001b[0m in \u001b[0;36mwrapper\u001b[1;34m(self, other)\u001b[0m\n\u001b[0;32m    116\u001b[0m \u001b[1;33m\u001b[0m\u001b[0m\n\u001b[0;32m    117\u001b[0m             \u001b[0mother\u001b[0m \u001b[1;33m=\u001b[0m \u001b[0m_to_m8\u001b[0m\u001b[1;33m(\u001b[0m\u001b[0mother\u001b[0m\u001b[1;33m,\u001b[0m \u001b[0mtz\u001b[0m\u001b[1;33m=\u001b[0m\u001b[0mself\u001b[0m\u001b[1;33m.\u001b[0m\u001b[0mtz\u001b[0m\u001b[1;33m)\u001b[0m\u001b[1;33m\u001b[0m\u001b[1;33m\u001b[0m\u001b[0m\n\u001b[1;32m--> 118\u001b[1;33m             \u001b[0mresult\u001b[0m \u001b[1;33m=\u001b[0m \u001b[0mfunc\u001b[0m\u001b[1;33m(\u001b[0m\u001b[0mother\u001b[0m\u001b[1;33m)\u001b[0m\u001b[1;33m\u001b[0m\u001b[1;33m\u001b[0m\u001b[0m\n\u001b[0m\u001b[0;32m    119\u001b[0m             \u001b[1;32mif\u001b[0m \u001b[0misna\u001b[0m\u001b[1;33m(\u001b[0m\u001b[0mother\u001b[0m\u001b[1;33m)\u001b[0m\u001b[1;33m:\u001b[0m\u001b[1;33m\u001b[0m\u001b[1;33m\u001b[0m\u001b[0m\n\u001b[0;32m    120\u001b[0m                 \u001b[0mresult\u001b[0m\u001b[1;33m.\u001b[0m\u001b[0mfill\u001b[0m\u001b[1;33m(\u001b[0m\u001b[0mnat_result\u001b[0m\u001b[1;33m)\u001b[0m\u001b[1;33m\u001b[0m\u001b[1;33m\u001b[0m\u001b[0m\n",
      "\u001b[1;32m~\\Anaconda3\\envs\\INFORMS2\\lib\\site-packages\\pandas\\core\\indexes\\base.py\u001b[0m in \u001b[0;36mcmp_method\u001b[1;34m(self, other)\u001b[0m\n\u001b[0;32m     96\u001b[0m         \u001b[1;31m# representations\u001b[0m\u001b[1;33m\u001b[0m\u001b[1;33m\u001b[0m\u001b[1;33m\u001b[0m\u001b[0m\n\u001b[0;32m     97\u001b[0m         \u001b[1;32mif\u001b[0m \u001b[0mneeds_i8_conversion\u001b[0m\u001b[1;33m(\u001b[0m\u001b[0mself\u001b[0m\u001b[1;33m)\u001b[0m \u001b[1;32mand\u001b[0m \u001b[0mneeds_i8_conversion\u001b[0m\u001b[1;33m(\u001b[0m\u001b[0mother\u001b[0m\u001b[1;33m)\u001b[0m\u001b[1;33m:\u001b[0m\u001b[1;33m\u001b[0m\u001b[1;33m\u001b[0m\u001b[0m\n\u001b[1;32m---> 98\u001b[1;33m             \u001b[1;32mreturn\u001b[0m \u001b[0mself\u001b[0m\u001b[1;33m.\u001b[0m\u001b[0m_evaluate_compare\u001b[0m\u001b[1;33m(\u001b[0m\u001b[0mother\u001b[0m\u001b[1;33m,\u001b[0m \u001b[0mop\u001b[0m\u001b[1;33m)\u001b[0m\u001b[1;33m\u001b[0m\u001b[1;33m\u001b[0m\u001b[0m\n\u001b[0m\u001b[0;32m     99\u001b[0m \u001b[1;33m\u001b[0m\u001b[0m\n\u001b[0;32m    100\u001b[0m         \u001b[1;32mfrom\u001b[0m \u001b[1;33m.\u001b[0m\u001b[0mmulti\u001b[0m \u001b[1;32mimport\u001b[0m \u001b[0mMultiIndex\u001b[0m\u001b[1;33m\u001b[0m\u001b[1;33m\u001b[0m\u001b[0m\n",
      "\u001b[1;32m~\\Anaconda3\\envs\\INFORMS2\\lib\\site-packages\\pandas\\core\\indexes\\datetimelike.py\u001b[0m in \u001b[0;36m_evaluate_compare\u001b[1;34m(self, other, op)\u001b[0m\n\u001b[0;32m    315\u001b[0m \u001b[1;33m\u001b[0m\u001b[0m\n\u001b[0;32m    316\u001b[0m         \u001b[1;31m# compare\u001b[0m\u001b[1;33m\u001b[0m\u001b[1;33m\u001b[0m\u001b[1;33m\u001b[0m\u001b[0m\n\u001b[1;32m--> 317\u001b[1;33m         \u001b[0mresult\u001b[0m \u001b[1;33m=\u001b[0m \u001b[0mop\u001b[0m\u001b[1;33m(\u001b[0m\u001b[0mself\u001b[0m\u001b[1;33m.\u001b[0m\u001b[0masi8\u001b[0m\u001b[1;33m,\u001b[0m \u001b[0mother\u001b[0m\u001b[1;33m.\u001b[0m\u001b[0masi8\u001b[0m\u001b[1;33m)\u001b[0m\u001b[1;33m\u001b[0m\u001b[1;33m\u001b[0m\u001b[0m\n\u001b[0m\u001b[0;32m    318\u001b[0m \u001b[1;33m\u001b[0m\u001b[0m\n\u001b[0;32m    319\u001b[0m         \u001b[1;31m# technically we could support bool dtyped Index\u001b[0m\u001b[1;33m\u001b[0m\u001b[1;33m\u001b[0m\u001b[1;33m\u001b[0m\u001b[0m\n",
      "\u001b[1;31mKeyboardInterrupt\u001b[0m: "
     ],
     "output_type": "error"
    }
   ],
   "source": [
    ""
   ]
  },
  {
   "cell_type": "code",
   "execution_count": 356,
   "metadata": {},
   "outputs": [
    {
     "name": "stdout",
     "output_type": "stream",
     "text": [
      "_\n"
     ]
    }
   ],
   "source": [
    ""
   ]
  },
  {
   "cell_type": "code",
   "execution_count": 209,
   "metadata": {},
   "outputs": [
    {
     "data": {
      "text/plain": [
       "True"
      ]
     },
     "execution_count": 209,
     "metadata": {},
     "output_type": "execute_result"
    }
   ],
   "source": [
    ""
   ]
  },
  {
   "cell_type": "code",
   "execution_count": 202,
   "metadata": {},
   "outputs": [
    {
     "name": "stdout",
     "output_type": "stream",
     "text": [
      "[15, 16, 19, 24, 29, 30, 36, 38, 41, 42, 43, 45, 0, 4, 6, 5, 5, 1, 7, 3, 1, 0, 3, 0] 868964.3349171111 False {'trans_reward': 868951.8349171111, 'lead_time_reward': 12.5}\n"
     ]
    }
   ],
   "source": [
    ""
   ]
  },
  {
   "cell_type": "code",
   "execution_count": 204,
   "metadata": {},
   "outputs": [],
   "source": [
    ""
   ]
  },
  {
   "cell_type": "code",
   "execution_count": 79,
   "metadata": {},
   "outputs": [],
   "source": [
    ""
   ]
  },
  {
   "cell_type": "code",
   "execution_count": 80,
   "metadata": {},
   "outputs": [],
   "source": [
    ""
   ]
  },
  {
   "cell_type": "code",
   "execution_count": 36,
   "metadata": {},
   "outputs": [
    {
     "ename": "TypeError",
     "evalue": "__init__() missing 1 required positional argument: 'start_date'",
     "traceback": [
      "\u001b[1;31m---------------------------------------------------------------------------\u001b[0m",
      "\u001b[1;31mTypeError\u001b[0m                                 Traceback (most recent call last)",
      "\u001b[1;32m<ipython-input-36-72324cd97771>\u001b[0m in \u001b[0;36m<module>\u001b[1;34m\u001b[0m\n\u001b[1;32m----> 1\u001b[1;33m \u001b[0menv\u001b[0m \u001b[1;33m=\u001b[0m \u001b[0mHUFSEnv_v1\u001b[0m\u001b[1;33m(\u001b[0m\u001b[1;33m)\u001b[0m\u001b[1;33m\u001b[0m\u001b[1;33m\u001b[0m\u001b[0m\n\u001b[0m\u001b[0;32m      2\u001b[0m \u001b[0mstate\u001b[0m \u001b[1;33m=\u001b[0m \u001b[0menv\u001b[0m\u001b[1;33m.\u001b[0m\u001b[0mreset\u001b[0m\u001b[1;33m(\u001b[0m\u001b[1;33m)\u001b[0m\u001b[1;33m\u001b[0m\u001b[1;33m\u001b[0m\u001b[0m\n",
      "\u001b[1;31mTypeError\u001b[0m: __init__() missing 1 required positional argument: 'start_date'"
     ],
     "output_type": "error"
    }
   ],
   "source": [
    ""
   ]
  },
  {
   "cell_type": "code",
   "execution_count": 83,
   "metadata": {},
   "outputs": [],
   "source": [
    ""
   ]
  },
  {
   "cell_type": "code",
   "execution_count": 84,
   "metadata": {},
   "outputs": [
    {
     "data": {
      "text/plain": [
       "([0, 1, 1, 2, 2, 3, 3, 3, 3, 4, 4, 4, 0, 0, 0, 0, 0, 0, 0, 0, 0, 0, 0, 0],\n array([0], dtype=uint8))"
      ]
     },
     "execution_count": 84,
     "metadata": {},
     "output_type": "execute_result"
    }
   ],
   "source": [
    ""
   ]
  },
  {
   "cell_type": "code",
   "execution_count": 37,
   "metadata": {},
   "outputs": [],
   "source": [
    ""
   ]
  },
  {
   "cell_type": "code",
   "execution_count": 38,
   "metadata": {},
   "outputs": [
    {
     "name": "stdout",
     "output_type": "stream",
     "text": [
      "[9, 12, 15, 15, 17, 17, 17, 18, 19, 21, 22, 22, 3, 3, 4, 2, 9, 14, 8, 6, 10, 11, 9, 5]\n[0] [12, 15, 15, 17, 17, 17, 18, 19, 21, 22, 22, 23, 4, 2, 9, 14, 8, 6, 10, 11, 9, 5, 4, 7] {'trans_reward': 2482719.528334603, 'lead_time_reward': 7.5}\n[0] [15, 15, 17, 17, 17, 18, 19, 21, 22, 22, 23, 23, 9, 14, 8, 6, 10, 11, 9, 5, 4, 7, 10, 4] {'trans_reward': 0.0, 'lead_time_reward': 10.0}\n"
     ]
    },
    {
     "name": "stdout",
     "output_type": "stream",
     "text": [
      "[0] [15, 17, 17, 17, 18, 19, 21, 22, 22, 23, 23, 24, 8, 6, 10, 11, 9, 5, 4, 7, 10, 4, 2, 2] {'trans_reward': 2482719.528334603, 'lead_time_reward': 12.5}\n[0] [17, 17, 17, 18, 19, 21, 22, 22, 23, 23, 24, 26, 10, 11, 9, 5, 4, 7, 10, 4, 2, 2, 0, 5] {'trans_reward': 0.0, 'lead_time_reward': 12.5}\n[0] [17, 17, 18, 19, 21, 22, 22, 23, 23, 24, 26, 28, 9, 5, 4, 7, 10, 4, 2, 2, 0, 5, 2, 0] {'trans_reward': 2482719.528334603, 'lead_time_reward': 14.166666666666666}\n"
     ]
    },
    {
     "name": "stdout",
     "output_type": "stream",
     "text": [
      "[0] [17, 18, 19, 21, 22, 22, 23, 23, 24, 26, 28, 30, 4, 7, 10, 4, 2, 2, 0, 5, 2, 0, 5, 2] {'trans_reward': 0.0, 'lead_time_reward': 14.166666666666666}\n[0] [18, 19, 21, 22, 22, 23, 23, 24, 26, 28, 30, 33, 10, 4, 2, 2, 0, 5, 2, 0, 5, 2, 5, 7] {'trans_reward': 2482719.528334603, 'lead_time_reward': 14.166666666666666}\n[0] [19, 21, 22, 22, 23, 23, 24, 26, 28, 30, 33, 35, 2, 2, 0, 5, 2, 0, 5, 2, 5, 7, 1, 0] {'trans_reward': 0.0, 'lead_time_reward': 15.0}\n"
     ]
    },
    {
     "name": "stdout",
     "output_type": "stream",
     "text": [
      "[0] [1, 2, 2, 3, 3, 4, 6, 8, 10, 13, 15, 15, 0, 5, 2, 0, 5, 2, 5, 7, 1, 0, 2, 2] {'trans_reward': 2482719.528334603, 'lead_time_reward': 15.833333333333334}\n[0] [2, 2, 3, 3, 4, 6, 8, 10, 13, 15, 15, 16, 2, 0, 5, 2, 5, 7, 1, 0, 2, 2, 5, 3] {'trans_reward': 124135.97641673015, 'lead_time_reward': 0.8333333333333334}\n[0] [2, 3, 3, 4, 6, 8, 10, 13, 15, 15, 16, 16, 5, 2, 5, 7, 1, 0, 2, 2, 5, 3, 2, 4] {'trans_reward': 2482719.528334603, 'lead_time_reward': 1.6666666666666667}\n"
     ]
    },
    {
     "name": "stdout",
     "output_type": "stream",
     "text": [
      "[0] [3, 3, 4, 6, 8, 10, 13, 15, 15, 16, 16, 16, 5, 7, 1, 0, 2, 2, 5, 3, 2, 4, 2, 3] {'trans_reward': 124135.97641673015, 'lead_time_reward': 1.6666666666666667}\n[0] [3, 4, 6, 8, 10, 13, 15, 15, 16, 16, 16, 16, 1, 0, 2, 2, 5, 3, 2, 4, 2, 3, 2, 3] {'trans_reward': 2482719.528334603, 'lead_time_reward': 2.5}\n[0] [4, 6, 8, 10, 13, 15, 15, 16, 16, 16, 16, 17, 2, 2, 5, 3, 2, 4, 2, 3, 2, 3, 0, 2] {'trans_reward': 124135.97641673015, 'lead_time_reward': 2.5}\n[0] [6, 8, 10, 13, 15, 15, 16, 16, 16, 16, 17, 17, 5, 3, 2, 4, 2, 3, 2, 3, 0, 2, 1, 3] {'trans_reward': 2482719.528334603, 'lead_time_reward': 3.3333333333333335}\n"
     ]
    },
    {
     "name": "stdout",
     "output_type": "stream",
     "text": [
      "[0] [8, 10, 13, 15, 15, 16, 16, 16, 16, 17, 17, 20, 2, 4, 2, 3, 2, 3, 0, 2, 1, 3, 8, 1] {'trans_reward': 124135.97641673015, 'lead_time_reward': 5.0}\n[0] [10, 13, 15, 15, 16, 16, 16, 16, 17, 17, 20, 24, 2, 3, 2, 3, 0, 2, 1, 3, 8, 1, 1, 10] {'trans_reward': 2482719.528334603, 'lead_time_reward': 6.666666666666667}\n[0] [13, 15, 15, 16, 16, 16, 16, 17, 17, 20, 24, 28, 2, 3, 0, 2, 1, 3, 8, 1, 1, 10, 2, 2] {'trans_reward': 124135.97641673015, 'lead_time_reward': 8.333333333333334}\n"
     ]
    },
    {
     "name": "stdout",
     "output_type": "stream",
     "text": [
      "[0] [15, 15, 16, 16, 16, 16, 17, 17, 20, 24, 28, 32, 0, 2, 1, 3, 8, 1, 1, 10, 2, 2, 4, 2] {'trans_reward': 2482719.528334603, 'lead_time_reward': 10.833333333333334}\n[0] [15, 16, 16, 16, 16, 17, 17, 20, 24, 28, 32, 34, 1, 3, 8, 1, 1, 10, 2, 2, 4, 2, 7, 16] {'trans_reward': 124135.97641673015, 'lead_time_reward': 12.5}\n"
     ]
    },
    {
     "name": "stdout",
     "output_type": "stream",
     "text": [
      "[0] [16, 16, 16, 16, 17, 17, 20, 24, 28, 32, 34, 40, 8, 1, 1, 10, 2, 2, 4, 2, 7, 16, 10, 3] {'trans_reward': 2482719.528334603, 'lead_time_reward': 12.5}\n[0] [16, 16, 16, 17, 17, 20, 24, 28, 32, 34, 40, 44, 1, 10, 2, 2, 4, 2, 7, 16, 10, 3, 6, 8] {'trans_reward': 124135.97641673015, 'lead_time_reward': 13.333333333333334}\n"
     ]
    },
    {
     "name": "stdout",
     "output_type": "stream",
     "text": [
      "[0] [16, 16, 17, 17, 20, 24, 28, 32, 34, 40, 44, 47, 2, 2, 4, 2, 7, 16, 10, 3, 6, 8, 10, 9] {'trans_reward': 2482719.528334603, 'lead_time_reward': 13.333333333333334}\n[0] [16, 17, 17, 20, 24, 28, 32, 34, 40, 44, 47, 49, 4, 2, 7, 16, 10, 3, 6, 8, 10, 9, 8, 3] {'trans_reward': 124135.97641673015, 'lead_time_reward': 13.333333333333334}\n[0] [17, 17, 20, 24, 28, 32, 34, 40, 44, 47, 49, 53, 7, 16, 10, 3, 6, 8, 10, 9, 8, 3, 4, 4] {'trans_reward': 2482719.528334603, 'lead_time_reward': 13.333333333333334}\n"
     ]
    },
    {
     "name": "stdout",
     "output_type": "stream",
     "text": [
      "[0] [17, 20, 24, 28, 32, 34, 40, 44, 47, 49, 53, 58, 10, 3, 6, 8, 10, 9, 8, 3, 4, 4, 1, 5] {'trans_reward': 124135.97641673015, 'lead_time_reward': 14.166666666666666}\n[0] [0, 4, 8, 12, 14, 20, 24, 27, 29, 33, 38, 40, 6, 8, 10, 9, 8, 3, 4, 4, 1, 5, 1, 8] {'trans_reward': 2482719.528334603, 'lead_time_reward': 14.166666666666666}\n[0] [4, 8, 12, 14, 20, 24, 27, 29, 33, 38, 40, 47, 10, 9, 8, 3, 4, 4, 1, 5, 1, 8, 10, 4] {'trans_reward': 248271.9528334603, 'lead_time_reward': 0.0}\n[0] [8, 12, 14, 20, 24, 27, 29, 33, 38, 40, 47, 55, 8, 3, 4, 4, 1, 5, 1, 8, 10, 4, 8, 2] {'trans_reward': 2482719.528334603, 'lead_time_reward': 3.3333333333333335}\n"
     ]
    },
    {
     "name": "stdout",
     "output_type": "stream",
     "text": [
      "[0] [12, 14, 20, 24, 27, 29, 33, 38, 40, 47, 55, 61, 4, 4, 1, 5, 1, 8, 10, 4, 8, 2, 6, 8] {'trans_reward': 248271.9528334603, 'lead_time_reward': 6.666666666666667}\n[0] [14, 20, 24, 27, 29, 33, 38, 40, 47, 55, 61, 70, 1, 5, 1, 8, 10, 4, 8, 2, 6, 8, 7, 2] {'trans_reward': 2482719.528334603, 'lead_time_reward': 10.0}\n[0] [0, 4, 7, 9, 13, 18, 20, 27, 35, 41, 50, 60, 1, 8, 10, 4, 8, 2, 6, 8, 7, 2, 8, 7] {'trans_reward': 248271.9528334603, 'lead_time_reward': 11.666666666666666}\n[0] [4, 7, 9, 13, 18, 20, 27, 35, 41, 50, 60, 64, 10, 4, 8, 2, 6, 8, 7, 2, 8, 7, 9, 14] {'trans_reward': 2606855.504751333, 'lead_time_reward': 0.0}\n[0] [7, 9, 13, 18, 20, 27, 35, 41, 50, 60, 64, 69, 8, 2, 6, 8, 7, 2, 8, 7, 9, 14, 14, 5] {'trans_reward': 248271.9528334603, 'lead_time_reward': 3.3333333333333335}\n"
     ]
    },
    {
     "name": "stdout",
     "output_type": "stream",
     "text": [
      "[0] [9, 13, 18, 20, 27, 35, 41, 50, 60, 64, 69, 76, 6, 8, 7, 2, 8, 7, 9, 14, 14, 5, 4, 5] {'trans_reward': 2606855.504751333, 'lead_time_reward': 5.833333333333333}\n[0] [13, 18, 20, 27, 35, 41, 50, 60, 64, 69, 76, 77, 7, 2, 8, 7, 9, 14, 14, 5, 4, 5, 3, 7] {'trans_reward': 248271.9528334603, 'lead_time_reward': 7.5}\n[0] [18, 20, 27, 35, 41, 50, 60, 64, 69, 76, 77, 86, 8, 7, 9, 14, 14, 5, 4, 5, 3, 7, 4, 2] {'trans_reward': 2606855.504751333, 'lead_time_reward': 10.833333333333334}\n[0] [0, 7, 15, 21, 30, 40, 44, 49, 56, 57, 66, 66, 9, 14, 14, 5, 4, 5, 3, 7, 4, 2, 2, 1] {'trans_reward': 248271.9528334603, 'lead_time_reward': 15.0}\n"
     ]
    },
    {
     "name": "stdout",
     "output_type": "stream",
     "text": [
      "[0] [7, 15, 21, 30, 40, 44, 49, 56, 57, 66, 66, 71, 14, 5, 4, 5, 3, 7, 4, 2, 2, 1, 5, 3] {'trans_reward': 2730991.4811680634, 'lead_time_reward': 0.0}\n[0] [15, 21, 30, 40, 44, 49, 56, 57, 66, 66, 71, 75, 4, 5, 3, 7, 4, 2, 2, 1, 5, 3, 5, 2] {'trans_reward': 248271.9528334603, 'lead_time_reward': 5.833333333333333}\n[0] [1, 10, 20, 24, 29, 36, 37, 46, 46, 51, 55, 61, 3, 7, 4, 2, 2, 1, 5, 3, 5, 2, 5, 3] {'trans_reward': 2730991.4811680634, 'lead_time_reward': 12.5}\n"
     ]
    },
    {
     "name": "stdout",
     "output_type": "stream",
     "text": [
      "[0] [10, 20, 24, 29, 36, 37, 46, 46, 51, 55, 61, 66, 4, 2, 2, 1, 5, 3, 5, 2, 5, 3, 4, 5] {'trans_reward': 372407.92925019044, 'lead_time_reward': 0.8333333333333334}\n[0] [0, 4, 9, 16, 17, 26, 26, 31, 35, 41, 46, 52, 2, 1, 5, 3, 5, 2, 5, 3, 4, 5, 7, 7] {'trans_reward': 2730991.4811680634, 'lead_time_reward': 8.333333333333334}\n[0] [4, 9, 16, 17, 26, 26, 31, 35, 41, 46, 52, 57, 5, 3, 5, 2, 5, 3, 4, 5, 7, 7, 12, 3] {'trans_reward': 496543.9056669206, 'lead_time_reward': 0.0}\n"
     ]
    },
    {
     "name": "stdout",
     "output_type": "stream",
     "text": [
      "[0] [9, 16, 17, 26, 26, 31, 35, 41, 46, 52, 57, 68, 5, 2, 5, 3, 4, 5, 7, 7, 12, 3, 8, 1] {'trans_reward': 2730991.4811680634, 'lead_time_reward': 3.3333333333333335}\n[0] [16, 17, 26, 26, 31, 35, 41, 46, 52, 57, 68, 73, 5, 3, 4, 5, 7, 7, 12, 3, 8, 1, 3, 4] {'trans_reward': 496543.9056669206, 'lead_time_reward': 7.5}\n[0] [17, 26, 26, 31, 35, 41, 46, 52, 57, 68, 73, 79, 4, 5, 7, 7, 12, 3, 8, 1, 3, 4, 2, 8] {'trans_reward': 2730991.4811680634, 'lead_time_reward': 13.333333333333334}\n"
     ]
    },
    {
     "name": "stdout",
     "output_type": "stream",
     "text": [
      "[0] [6, 6, 11, 15, 21, 26, 32, 37, 48, 53, 59, 65, 7, 7, 12, 3, 8, 1, 3, 4, 2, 8, 8, 0] {'trans_reward': 496543.9056669206, 'lead_time_reward': 14.166666666666666}\n[0] [6, 11, 15, 21, 26, 32, 37, 48, 53, 59, 65, 67, 12, 3, 8, 1, 3, 4, 2, 8, 8, 0, 4, 0] {'trans_reward': 2855127.457584793, 'lead_time_reward': 5.0}\n[0] [11, 15, 21, 26, 32, 37, 48, 53, 59, 65, 67, 70, 8, 1, 3, 4, 2, 8, 8, 0, 4, 0, 0, 1] {'trans_reward': 496543.9056669206, 'lead_time_reward': 5.0}\n"
     ]
    },
    {
     "name": "stdout",
     "output_type": "stream",
     "text": [
      "[0] [15, 21, 26, 32, 37, 48, 53, 59, 65, 67, 70, 73, 3, 4, 2, 8, 8, 0, 4, 0, 0, 1, 6, 1] {'trans_reward': 2855127.457584793, 'lead_time_reward': 9.166666666666666}\n[0] [1, 6, 12, 17, 28, 33, 39, 45, 47, 50, 53, 53, 2, 8, 8, 0, 4, 0, 0, 1, 6, 1, 1, 3] {'trans_reward': 496543.9056669206, 'lead_time_reward': 12.5}\n"
     ]
    },
    {
     "ename": "KeyboardInterrupt",
     "evalue": "",
     "traceback": [
      "\u001b[1;31m---------------------------------------------------------------------------\u001b[0m",
      "\u001b[1;31mKeyboardInterrupt\u001b[0m                         Traceback (most recent call last)",
      "\u001b[1;32m<ipython-input-38-253985f4e781>\u001b[0m in \u001b[0;36m<module>\u001b[1;34m\u001b[0m\n\u001b[0;32m      4\u001b[0m \u001b[1;32mfor\u001b[0m \u001b[0mi\u001b[0m \u001b[1;32min\u001b[0m \u001b[0mrange\u001b[0m\u001b[1;33m(\u001b[0m\u001b[1;36m500\u001b[0m\u001b[1;33m)\u001b[0m\u001b[1;33m:\u001b[0m\u001b[1;33m\u001b[0m\u001b[1;33m\u001b[0m\u001b[0m\n\u001b[0;32m      5\u001b[0m     \u001b[0maction\u001b[0m \u001b[1;33m=\u001b[0m \u001b[0mget_action\u001b[0m\u001b[1;33m(\u001b[0m\u001b[0menv\u001b[0m\u001b[1;33m,\u001b[0m\u001b[0mstate\u001b[0m\u001b[1;33m,\u001b[0m\u001b[0mmodel\u001b[0m\u001b[1;33m,\u001b[0m\u001b[1;36m0\u001b[0m\u001b[1;33m)\u001b[0m\u001b[1;33m\u001b[0m\u001b[1;33m\u001b[0m\u001b[0m\n\u001b[1;32m----> 6\u001b[1;33m     \u001b[0mstate\u001b[0m\u001b[1;33m,\u001b[0m \u001b[0mreward\u001b[0m\u001b[1;33m,\u001b[0m \u001b[0mdone\u001b[0m\u001b[1;33m,\u001b[0m \u001b[0m_\u001b[0m \u001b[1;33m=\u001b[0m \u001b[0menv\u001b[0m\u001b[1;33m.\u001b[0m\u001b[0mstep\u001b[0m\u001b[1;33m(\u001b[0m\u001b[0maction\u001b[0m\u001b[1;33m)\u001b[0m\u001b[1;33m\u001b[0m\u001b[1;33m\u001b[0m\u001b[0m\n\u001b[0m\u001b[0;32m      7\u001b[0m     \u001b[0mprint\u001b[0m\u001b[1;33m(\u001b[0m\u001b[0maction\u001b[0m\u001b[1;33m,\u001b[0m \u001b[0mstate\u001b[0m\u001b[1;33m,\u001b[0m \u001b[0m_\u001b[0m \u001b[1;33m)\u001b[0m\u001b[1;33m\u001b[0m\u001b[1;33m\u001b[0m\u001b[0m\n",
      "\u001b[1;32m<ipython-input-12-229ff2ad053c>\u001b[0m in \u001b[0;36mstep\u001b[1;34m(self, action)\u001b[0m\n\u001b[0;32m    145\u001b[0m \u001b[1;33m\u001b[0m\u001b[0m\n\u001b[0;32m    146\u001b[0m \u001b[1;33m\u001b[0m\u001b[0m\n\u001b[1;32m--> 147\u001b[1;33m         \u001b[0mself\u001b[0m\u001b[1;33m.\u001b[0m\u001b[0mstate\u001b[0m \u001b[1;33m=\u001b[0m \u001b[0mself\u001b[0m\u001b[1;33m.\u001b[0m\u001b[0mget_state\u001b[0m\u001b[1;33m(\u001b[0m\u001b[1;33m)\u001b[0m\u001b[1;33m\u001b[0m\u001b[1;33m\u001b[0m\u001b[0m\n\u001b[0m\u001b[0;32m    148\u001b[0m \u001b[1;33m\u001b[0m\u001b[0m\n\u001b[0;32m    149\u001b[0m         return self.state, sum([trans_reward, lead_time_reward, overflow_cost]), self.done, {\n",
      "\u001b[1;32m<ipython-input-12-229ff2ad053c>\u001b[0m in \u001b[0;36mget_state\u001b[1;34m(self)\u001b[0m\n\u001b[0;32m     94\u001b[0m         inventory_state = [\n\u001b[0;32m     95\u001b[0m             \u001b[0msum\u001b[0m\u001b[1;33m(\u001b[0m\u001b[0mself\u001b[0m\u001b[1;33m.\u001b[0m\u001b[0mselected_vdc_inventory_df\u001b[0m\u001b[1;33m[\u001b[0m\u001b[0mself\u001b[0m\u001b[1;33m.\u001b[0m\u001b[0mselected_vdc_inventory_df\u001b[0m\u001b[1;33m[\u001b[0m\u001b[1;34m\"arrival_time\"\u001b[0m\u001b[1;33m]\u001b[0m \u001b[1;33m<=\u001b[0m \u001b[0mself\u001b[0m\u001b[1;33m.\u001b[0m\u001b[0mcurrent_time\u001b[0m \u001b[1;33m+\u001b[0m \u001b[0mtimedelta\u001b[0m\u001b[1;33m(\u001b[0m\u001b[0mhours\u001b[0m\u001b[1;33m=\u001b[0m\u001b[0mt\u001b[0m\u001b[1;33m)\u001b[0m\u001b[1;33m]\u001b[0m\u001b[1;33m[\u001b[0m\u001b[0mself\u001b[0m\u001b[1;33m.\u001b[0m\u001b[0mrdly_selected_vdc\u001b[0m\u001b[1;33m]\u001b[0m\u001b[1;33m)\u001b[0m\u001b[1;33m\u001b[0m\u001b[1;33m\u001b[0m\u001b[0m\n\u001b[1;32m---> 96\u001b[1;33m             \u001b[1;32mfor\u001b[0m \u001b[0mt\u001b[0m \u001b[1;32min\u001b[0m \u001b[0mrange\u001b[0m\u001b[1;33m(\u001b[0m\u001b[0mself\u001b[0m\u001b[1;33m.\u001b[0m\u001b[0mNUM_LOOKING_FORWARD\u001b[0m\u001b[1;33m)\u001b[0m\u001b[1;33m\u001b[0m\u001b[1;33m\u001b[0m\u001b[0m\n\u001b[0m\u001b[0;32m     97\u001b[0m         ]\n\u001b[0;32m     98\u001b[0m \u001b[1;33m\u001b[0m\u001b[0m\n",
      "\u001b[1;32m<ipython-input-12-229ff2ad053c>\u001b[0m in \u001b[0;36m<listcomp>\u001b[1;34m(.0)\u001b[0m\n\u001b[0;32m     94\u001b[0m         inventory_state = [\n\u001b[0;32m     95\u001b[0m             \u001b[0msum\u001b[0m\u001b[1;33m(\u001b[0m\u001b[0mself\u001b[0m\u001b[1;33m.\u001b[0m\u001b[0mselected_vdc_inventory_df\u001b[0m\u001b[1;33m[\u001b[0m\u001b[0mself\u001b[0m\u001b[1;33m.\u001b[0m\u001b[0mselected_vdc_inventory_df\u001b[0m\u001b[1;33m[\u001b[0m\u001b[1;34m\"arrival_time\"\u001b[0m\u001b[1;33m]\u001b[0m \u001b[1;33m<=\u001b[0m \u001b[0mself\u001b[0m\u001b[1;33m.\u001b[0m\u001b[0mcurrent_time\u001b[0m \u001b[1;33m+\u001b[0m \u001b[0mtimedelta\u001b[0m\u001b[1;33m(\u001b[0m\u001b[0mhours\u001b[0m\u001b[1;33m=\u001b[0m\u001b[0mt\u001b[0m\u001b[1;33m)\u001b[0m\u001b[1;33m]\u001b[0m\u001b[1;33m[\u001b[0m\u001b[0mself\u001b[0m\u001b[1;33m.\u001b[0m\u001b[0mrdly_selected_vdc\u001b[0m\u001b[1;33m]\u001b[0m\u001b[1;33m)\u001b[0m\u001b[1;33m\u001b[0m\u001b[1;33m\u001b[0m\u001b[0m\n\u001b[1;32m---> 96\u001b[1;33m             \u001b[1;32mfor\u001b[0m \u001b[0mt\u001b[0m \u001b[1;32min\u001b[0m \u001b[0mrange\u001b[0m\u001b[1;33m(\u001b[0m\u001b[0mself\u001b[0m\u001b[1;33m.\u001b[0m\u001b[0mNUM_LOOKING_FORWARD\u001b[0m\u001b[1;33m)\u001b[0m\u001b[1;33m\u001b[0m\u001b[1;33m\u001b[0m\u001b[0m\n\u001b[0m\u001b[0;32m     97\u001b[0m         ]\n\u001b[0;32m     98\u001b[0m \u001b[1;33m\u001b[0m\u001b[0m\n",
      "\u001b[1;32m~\\Anaconda3\\envs\\INFORMS2\\lib\\site-packages\\pandas\\core\\ops.py\u001b[0m in \u001b[0;36mwrapper\u001b[1;34m(self, other, axis)\u001b[0m\n\u001b[0;32m   1228\u001b[0m \u001b[1;33m\u001b[0m\u001b[0m\n\u001b[0;32m   1229\u001b[0m             res_values = dispatch_to_index_op(op, self, other,\n\u001b[1;32m-> 1230\u001b[1;33m                                               pd.DatetimeIndex)\n\u001b[0m\u001b[0;32m   1231\u001b[0m \u001b[1;33m\u001b[0m\u001b[0m\n\u001b[0;32m   1232\u001b[0m             return self._constructor(res_values, index=self.index,\n",
      "\u001b[1;32m~\\Anaconda3\\envs\\INFORMS2\\lib\\site-packages\\pandas\\core\\ops.py\u001b[0m in \u001b[0;36mdispatch_to_index_op\u001b[1;34m(op, left, right, index_class)\u001b[0m\n\u001b[0;32m   1099\u001b[0m         \u001b[0mleft_idx\u001b[0m \u001b[1;33m=\u001b[0m \u001b[0mleft_idx\u001b[0m\u001b[1;33m.\u001b[0m\u001b[0m_shallow_copy\u001b[0m\u001b[1;33m(\u001b[0m\u001b[0mfreq\u001b[0m\u001b[1;33m=\u001b[0m\u001b[1;32mNone\u001b[0m\u001b[1;33m)\u001b[0m\u001b[1;33m\u001b[0m\u001b[1;33m\u001b[0m\u001b[0m\n\u001b[0;32m   1100\u001b[0m     \u001b[1;32mtry\u001b[0m\u001b[1;33m:\u001b[0m\u001b[1;33m\u001b[0m\u001b[1;33m\u001b[0m\u001b[0m\n\u001b[1;32m-> 1101\u001b[1;33m         \u001b[0mresult\u001b[0m \u001b[1;33m=\u001b[0m \u001b[0mop\u001b[0m\u001b[1;33m(\u001b[0m\u001b[0mleft_idx\u001b[0m\u001b[1;33m,\u001b[0m \u001b[0mright\u001b[0m\u001b[1;33m)\u001b[0m\u001b[1;33m\u001b[0m\u001b[1;33m\u001b[0m\u001b[0m\n\u001b[0m\u001b[0;32m   1102\u001b[0m     \u001b[1;32mexcept\u001b[0m \u001b[0mNullFrequencyError\u001b[0m\u001b[1;33m:\u001b[0m\u001b[1;33m\u001b[0m\u001b[1;33m\u001b[0m\u001b[0m\n\u001b[0;32m   1103\u001b[0m         \u001b[1;31m# DatetimeIndex and TimedeltaIndex with freq == None raise ValueError\u001b[0m\u001b[1;33m\u001b[0m\u001b[1;33m\u001b[0m\u001b[1;33m\u001b[0m\u001b[0m\n",
      "\u001b[1;32m~\\Anaconda3\\envs\\INFORMS2\\lib\\site-packages\\pandas\\core\\indexes\\datetimes.py\u001b[0m in \u001b[0;36mwrapper\u001b[1;34m(self, other)\u001b[0m\n\u001b[0;32m    116\u001b[0m \u001b[1;33m\u001b[0m\u001b[0m\n\u001b[0;32m    117\u001b[0m             \u001b[0mother\u001b[0m \u001b[1;33m=\u001b[0m \u001b[0m_to_m8\u001b[0m\u001b[1;33m(\u001b[0m\u001b[0mother\u001b[0m\u001b[1;33m,\u001b[0m \u001b[0mtz\u001b[0m\u001b[1;33m=\u001b[0m\u001b[0mself\u001b[0m\u001b[1;33m.\u001b[0m\u001b[0mtz\u001b[0m\u001b[1;33m)\u001b[0m\u001b[1;33m\u001b[0m\u001b[1;33m\u001b[0m\u001b[0m\n\u001b[1;32m--> 118\u001b[1;33m             \u001b[0mresult\u001b[0m \u001b[1;33m=\u001b[0m \u001b[0mfunc\u001b[0m\u001b[1;33m(\u001b[0m\u001b[0mother\u001b[0m\u001b[1;33m)\u001b[0m\u001b[1;33m\u001b[0m\u001b[1;33m\u001b[0m\u001b[0m\n\u001b[0m\u001b[0;32m    119\u001b[0m             \u001b[1;32mif\u001b[0m \u001b[0misna\u001b[0m\u001b[1;33m(\u001b[0m\u001b[0mother\u001b[0m\u001b[1;33m)\u001b[0m\u001b[1;33m:\u001b[0m\u001b[1;33m\u001b[0m\u001b[1;33m\u001b[0m\u001b[0m\n\u001b[0;32m    120\u001b[0m                 \u001b[0mresult\u001b[0m\u001b[1;33m.\u001b[0m\u001b[0mfill\u001b[0m\u001b[1;33m(\u001b[0m\u001b[0mnat_result\u001b[0m\u001b[1;33m)\u001b[0m\u001b[1;33m\u001b[0m\u001b[1;33m\u001b[0m\u001b[0m\n",
      "\u001b[1;32m~\\Anaconda3\\envs\\INFORMS2\\lib\\site-packages\\pandas\\core\\indexes\\base.py\u001b[0m in \u001b[0;36mcmp_method\u001b[1;34m(self, other)\u001b[0m\n\u001b[0;32m     96\u001b[0m         \u001b[1;31m# representations\u001b[0m\u001b[1;33m\u001b[0m\u001b[1;33m\u001b[0m\u001b[1;33m\u001b[0m\u001b[0m\n\u001b[0;32m     97\u001b[0m         \u001b[1;32mif\u001b[0m \u001b[0mneeds_i8_conversion\u001b[0m\u001b[1;33m(\u001b[0m\u001b[0mself\u001b[0m\u001b[1;33m)\u001b[0m \u001b[1;32mand\u001b[0m \u001b[0mneeds_i8_conversion\u001b[0m\u001b[1;33m(\u001b[0m\u001b[0mother\u001b[0m\u001b[1;33m)\u001b[0m\u001b[1;33m:\u001b[0m\u001b[1;33m\u001b[0m\u001b[1;33m\u001b[0m\u001b[0m\n\u001b[1;32m---> 98\u001b[1;33m             \u001b[1;32mreturn\u001b[0m \u001b[0mself\u001b[0m\u001b[1;33m.\u001b[0m\u001b[0m_evaluate_compare\u001b[0m\u001b[1;33m(\u001b[0m\u001b[0mother\u001b[0m\u001b[1;33m,\u001b[0m \u001b[0mop\u001b[0m\u001b[1;33m)\u001b[0m\u001b[1;33m\u001b[0m\u001b[1;33m\u001b[0m\u001b[0m\n\u001b[0m\u001b[0;32m     99\u001b[0m \u001b[1;33m\u001b[0m\u001b[0m\n\u001b[0;32m    100\u001b[0m         \u001b[1;32mfrom\u001b[0m \u001b[1;33m.\u001b[0m\u001b[0mmulti\u001b[0m \u001b[1;32mimport\u001b[0m \u001b[0mMultiIndex\u001b[0m\u001b[1;33m\u001b[0m\u001b[1;33m\u001b[0m\u001b[0m\n",
      "\u001b[1;32m~\\Anaconda3\\envs\\INFORMS2\\lib\\site-packages\\pandas\\core\\indexes\\datetimelike.py\u001b[0m in \u001b[0;36m_evaluate_compare\u001b[1;34m(self, other, op)\u001b[0m\n\u001b[0;32m    315\u001b[0m \u001b[1;33m\u001b[0m\u001b[0m\n\u001b[0;32m    316\u001b[0m         \u001b[1;31m# compare\u001b[0m\u001b[1;33m\u001b[0m\u001b[1;33m\u001b[0m\u001b[1;33m\u001b[0m\u001b[0m\n\u001b[1;32m--> 317\u001b[1;33m         \u001b[0mresult\u001b[0m \u001b[1;33m=\u001b[0m \u001b[0mop\u001b[0m\u001b[1;33m(\u001b[0m\u001b[0mself\u001b[0m\u001b[1;33m.\u001b[0m\u001b[0masi8\u001b[0m\u001b[1;33m,\u001b[0m \u001b[0mother\u001b[0m\u001b[1;33m.\u001b[0m\u001b[0masi8\u001b[0m\u001b[1;33m)\u001b[0m\u001b[1;33m\u001b[0m\u001b[1;33m\u001b[0m\u001b[0m\n\u001b[0m\u001b[0;32m    318\u001b[0m \u001b[1;33m\u001b[0m\u001b[0m\n\u001b[0;32m    319\u001b[0m         \u001b[1;31m# technically we could support bool dtyped Index\u001b[0m\u001b[1;33m\u001b[0m\u001b[1;33m\u001b[0m\u001b[1;33m\u001b[0m\u001b[0m\n",
      "\u001b[1;31mKeyboardInterrupt\u001b[0m: "
     ],
     "output_type": "error"
    }
   ],
   "source": [
    ""
   ]
  },
  {
   "cell_type": "code",
   "execution_count": null,
   "metadata": {},
   "outputs": [],
   "source": []
  }
 ],
 "metadata": {
  "kernelspec": {
   "display_name": "Python 2",
   "language": "python",
   "name": "python2"
  },
  "language_info": {
   "codemirror_mode": {
    "name": "ipython",
    "version": 2
   },
   "file_extension": ".py",
   "mimetype": "text/x-python",
   "name": "python",
   "nbconvert_exporter": "python",
   "pygments_lexer": "ipython2",
   "version": "2.7.6"
  }
 },
 "nbformat": 4,
 "nbformat_minor": 0
}
